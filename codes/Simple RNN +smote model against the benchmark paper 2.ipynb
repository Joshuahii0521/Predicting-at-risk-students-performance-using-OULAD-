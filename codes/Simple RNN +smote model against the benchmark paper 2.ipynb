{
 "cells": [
  {
   "cell_type": "code",
   "execution_count": 1,
   "id": "ce94542e",
   "metadata": {},
   "outputs": [
    {
     "name": "stderr",
     "output_type": "stream",
     "text": [
      "WARNING (theano.configdefaults): g++ not available, if using conda: `conda install m2w64-toolchain`\n",
      "WARNING (theano.configdefaults): g++ not detected ! Theano will be unable to execute optimized C-implementations (for both CPU and GPU) and will default to Python implementations. Performance will be severely degraded. To remove this warning, set Theano flags cxx to an empty string.\n",
      "WARNING (theano.tensor.blas): Using NumPy C-API based implementation for BLAS functions.\n"
     ]
    }
   ],
   "source": [
    "import os\n",
    "import warnings\n",
    "import pandas as pd\n",
    "import numpy as np\n",
    "import seaborn as sns\n",
    "import matplotlib.pyplot as plt\n",
    "from sklearn import metrics\n",
    "import matplotlib.pyplot as plt\n",
    "from sklearn.decomposition import PCA\n",
    "from imblearn.over_sampling import SMOTE\n",
    "from sklearn.feature_selection import RFE\n",
    "from sklearn.model_selection import KFold\n",
    "from sklearn.metrics import accuracy_score\n",
    "from sklearn.metrics import confusion_matrix\n",
    "from sklearn.preprocessing import LabelEncoder\n",
    "from sklearn.preprocessing import StandardScaler\n",
    "from sklearn import linear_model, ensemble, tree\n",
    "from sklearn.metrics import classification_report\n",
    "from sklearn.linear_model import LogisticRegression\n",
    "from sklearn.model_selection import train_test_split\n",
    "from sklearn.model_selection import RandomizedSearchCV\n",
    "from statsmodels.stats.outliers_influence import variance_inflation_factor\n",
    "from sklearn.ensemble import RandomForestClassifier, GradientBoostingClassifier\n",
    "from sklearn.metrics import r2_score, mean_squared_error, mean_absolute_error\n",
    "from sklearn.model_selection import cross_val_score,GridSearchCV,cross_validate\n",
    "from sklearn.metrics import confusion_matrix, auc,roc_auc_score,roc_curve,recall_score,classification_report\n",
    "warnings.filterwarnings('ignore')\n",
    "pd.set_option('display.max_rows', 100, 'display.max_columns', 400)\n",
    "\n",
    "\n",
    "import os\n",
    "import pandas as pd\n",
    "import numpy as np\n",
    "import matplotlib.pyplot as plt\n",
    "import seaborn as sns\n",
    "import plotly.express as px\n",
    "from sklearn.preprocessing import OneHotEncoder, LabelEncoder\n",
    "from sklearn.experimental import enable_iterative_imputer \n",
    "from sklearn.impute import IterativeImputer\n",
    "from sklearn.tree import DecisionTreeClassifier\n",
    "from sklearn.ensemble import RandomForestClassifier\n",
    "from sklearn.ensemble import ExtraTreesClassifier, RandomForestRegressor\n",
    "from sklearn.ensemble import GradientBoostingClassifier, GradientBoostingRegressor\n",
    "from sklearn.ensemble import AdaBoostClassifier\n",
    "from sklearn.model_selection import KFold\n",
    "from sklearn.model_selection import cross_val_score, cross_validate\n",
    "from sklearn.metrics import accuracy_score\n",
    "from sklearn.metrics import confusion_matrix, auc,roc_auc_score,roc_curve,recall_score,classification_report\n",
    "from sklearn.model_selection import train_test_split\n",
    "from sklearn.model_selection import GridSearchCV\n",
    "from sklearn.svm import SVC\n",
    "from sklearn.naive_bayes import GaussianNB\n",
    "from sklearn.linear_model import LogisticRegression\n",
    "import joblib\n",
    "from mlxtend.plotting import plot_confusion_matrix\n",
    "\n",
    "import warnings\n",
    "warnings.filterwarnings(\"ignore\")\n",
    "\n",
    "\n",
    "import theano\n",
    "import theano.tensor as Tensor\n",
    "import random\n",
    "import sys\n",
    "import csv\n",
    "import time\n",
    "import utils\n",
    "import visualize\n",
    "import tensorflow as tf\n",
    "from tensorflow import keras\n",
    "from keras.models import Sequential\n",
    "from keras.layers import Dense, Embedding, LSTM, BatchNormalization, Bidirectional, LayerNormalization\n",
    "from sklearn.model_selection import train_test_split\n",
    "from keras.utils.np_utils import to_categorical\n",
    "from keras import regularizers\n",
    "import re\n",
    "from keras.layers import Dropout\n",
    "from keras.preprocessing.sequence import TimeseriesGenerator\n",
    "from tensorflow.keras.callbacks import ModelCheckpoint\n",
    "from keras.layers import Activation, Dense, Flatten "
   ]
  },
  {
   "cell_type": "code",
   "execution_count": 2,
   "id": "c36ce34c",
   "metadata": {},
   "outputs": [
    {
     "name": "stdout",
     "output_type": "stream",
     "text": [
      "Tensorflow/Keras: 2.9.0\n"
     ]
    }
   ],
   "source": [
    "#Tensorflow / Keras\n",
    "from tensorflow import keras # for building Neural Networks\n",
    "print('Tensorflow/Keras: %s' % keras.__version__) # print version\n",
    "from keras.models import Sequential # for creating a linear stack of layers for our Neural Network\n",
    "from keras import Input # for instantiating a keras tensor\n",
    "from keras.layers import Bidirectional, GRU, RepeatVector, Dense, TimeDistributed,RNN # for creating layers inside the Neural Network\n",
    "from sklearn.preprocessing import MinMaxScaler\n",
    "import tensorflow as tf\n",
    "from tensorflow import keras\n",
    "from tensorflow.keras import layers\n",
    "\n",
    "import numpy as np\n",
    "import tensorflow as tf\n",
    "from tensorflow import keras\n",
    "from tensorflow.keras import layers"
   ]
  },
  {
   "cell_type": "code",
   "execution_count": 3,
   "id": "442f9570",
   "metadata": {},
   "outputs": [],
   "source": [
    "data4 = pd.read_csv('data4.csv')"
   ]
  },
  {
   "cell_type": "code",
   "execution_count": 4,
   "id": "bb7ef303",
   "metadata": {},
   "outputs": [],
   "source": [
    "data4 = data4.drop(['Unnamed: 0'], axis = 1)"
   ]
  },
  {
   "cell_type": "code",
   "execution_count": 5,
   "id": "48e0192b",
   "metadata": {},
   "outputs": [],
   "source": [
    "train,test= train_test_split(data4, test_size=0.3,random_state=123, stratify=data4.Result)# stratify the outcome\n",
    "X_train =train.drop(['Result'], axis = 1)\n",
    "X_test = test.drop(['Result'], axis = 1)\n",
    "Y_train = train['Result'].values\n",
    "Y_test = test['Result'].values"
   ]
  },
  {
   "cell_type": "code",
   "execution_count": 6,
   "id": "f2954e1a",
   "metadata": {},
   "outputs": [
    {
     "name": "stdout",
     "output_type": "stream",
     "text": [
      "Before OverSampling, counts of label '1': 202311\n",
      "Before OverSampling, counts of label '0': 721368 \n",
      "\n",
      "After OverSampling, the shape of train_X: (1442736, 63)\n",
      "After OverSampling, the shape of train_y: (1442736,) \n",
      "\n",
      "After OverSampling, counts of label '1': 721368\n",
      "After OverSampling, counts of label '0': 721368\n"
     ]
    }
   ],
   "source": [
    "print(\"Before OverSampling, counts of label '1': {}\".format(sum(Y_train == 1)))\n",
    "print(\"Before OverSampling, counts of label '0': {} \\n\".format(sum(Y_train == 0)))\n",
    "  \n",
    "# import SMOTE module from imblearn library\n",
    "# pip install imblearn (if you don't have imblearn in your system)\n",
    "from imblearn.over_sampling import SMOTE\n",
    "sm = SMOTE(random_state = 2)\n",
    "X_train_res, Y_train_res = sm.fit_resample(X_train, Y_train.ravel())\n",
    "  \n",
    "print('After OverSampling, the shape of train_X: {}'.format(X_train_res.shape))\n",
    "print('After OverSampling, the shape of train_y: {} \\n'.format(Y_train_res.shape))\n",
    "  \n",
    "print(\"After OverSampling, counts of label '1': {}\".format(sum(Y_train_res == 1)))\n",
    "print(\"After OverSampling, counts of label '0': {}\".format(sum(Y_train_res == 0)))"
   ]
  },
  {
   "cell_type": "code",
   "execution_count": 7,
   "id": "6bc6d07d",
   "metadata": {},
   "outputs": [],
   "source": [
    "X_train_res= np.expand_dims(X_train_res, axis=2)"
   ]
  },
  {
   "cell_type": "code",
   "execution_count": 8,
   "id": "13531a65",
   "metadata": {},
   "outputs": [
    {
     "data": {
      "text/plain": [
       "(1442736, 63, 1)"
      ]
     },
     "execution_count": 8,
     "metadata": {},
     "output_type": "execute_result"
    }
   ],
   "source": [
    "X_train_res.shape"
   ]
  },
  {
   "cell_type": "code",
   "execution_count": 9,
   "id": "189f1ffc",
   "metadata": {},
   "outputs": [],
   "source": [
    "X_test = np.expand_dims(X_test, axis=2)"
   ]
  },
  {
   "cell_type": "code",
   "execution_count": 10,
   "id": "1d623961",
   "metadata": {},
   "outputs": [
    {
     "data": {
      "text/plain": [
       "(395863, 63, 1)"
      ]
     },
     "execution_count": 10,
     "metadata": {},
     "output_type": "execute_result"
    }
   ],
   "source": [
    "X_test.shape"
   ]
  },
  {
   "cell_type": "code",
   "execution_count": 12,
   "id": "ed38be38",
   "metadata": {},
   "outputs": [],
   "source": [
    "import keras.backend as K\n",
    "from keras import models \n",
    "\n",
    "def f1_score(y_true, y_pred):\n",
    "\n",
    "    #Count positive samples.\n",
    "    c1 = K.sum(K.round(K.clip(y_true * y_pred, 0, 1)))\n",
    "    c2 = K.sum(K.round(K.clip(y_pred, 0, 1)))\n",
    "    c3 = K.sum(K.round(K.clip(y_true, 0, 1)))\n",
    "\n",
    "    #If there are no true samples, fix the F1 score at 0.\n",
    "    if c3 == 0.0:\n",
    "        return 0.0\n",
    "\n",
    "    #How many selected items are relevant?\n",
    "    precision = c1 / c2\n",
    "\n",
    "    # How many relevant items are selected?\n",
    "    recall = c1 / c3\n",
    "\n",
    "    # Calculate f1_score\n",
    "    f1_score = 2 * (precision * recall) / (precision + recall)\n",
    "    return f1_score "
   ]
  },
  {
   "cell_type": "code",
   "execution_count": null,
   "id": "4b798691",
   "metadata": {},
   "outputs": [],
   "source": []
  },
  {
   "cell_type": "code",
   "execution_count": null,
   "id": "62ebd72c",
   "metadata": {},
   "outputs": [],
   "source": []
  },
  {
   "cell_type": "code",
   "execution_count": null,
   "id": "537dad0c",
   "metadata": {},
   "outputs": [],
   "source": []
  },
  {
   "cell_type": "code",
   "execution_count": null,
   "id": "ae6ca06c",
   "metadata": {},
   "outputs": [],
   "source": []
  },
  {
   "cell_type": "code",
   "execution_count": 20,
   "id": "9c386000",
   "metadata": {},
   "outputs": [
    {
     "name": "stdout",
     "output_type": "stream",
     "text": [
      "Model: \"sequential_3\"\n",
      "_________________________________________________________________\n",
      " Layer (type)                Output Shape              Param #   \n",
      "=================================================================\n",
      " simple_rnn_6 (SimpleRNN)    (None, 63, 128)           16640     \n",
      "                                                                 \n",
      " dropout_6 (Dropout)         (None, 63, 128)           0         \n",
      "                                                                 \n",
      " batch_normalization_6 (Batc  (None, 63, 128)          512       \n",
      " hNormalization)                                                 \n",
      "                                                                 \n",
      " simple_rnn_7 (SimpleRNN)    (None, 63, 128)           32896     \n",
      "                                                                 \n",
      " dropout_7 (Dropout)         (None, 63, 128)           0         \n",
      "                                                                 \n",
      " batch_normalization_7 (Batc  (None, 63, 128)          512       \n",
      " hNormalization)                                                 \n",
      "                                                                 \n",
      " simple_rnn_8 (SimpleRNN)    (None, 64)                12352     \n",
      "                                                                 \n",
      " dropout_8 (Dropout)         (None, 64)                0         \n",
      "                                                                 \n",
      " batch_normalization_8 (Batc  (None, 64)               256       \n",
      " hNormalization)                                                 \n",
      "                                                                 \n",
      " dense_2 (Dense)             (None, 1)                 65        \n",
      "                                                                 \n",
      "=================================================================\n",
      "Total params: 63,233\n",
      "Trainable params: 62,593\n",
      "Non-trainable params: 640\n",
      "_________________________________________________________________\n"
     ]
    }
   ],
   "source": [
    "model = keras.Sequential()\n",
    "# RNN LAYER IS ADDED TO MODEL WITH 128 CELLS IN IT\n",
    "model.add(layers.SimpleRNN(128, input_shape=(X_train_res.shape[1],X_train_res.shape[2]), activation='tanh', return_sequences=True))\n",
    "model.add(Dropout(0.2))  # 20% DROPOUT ADDED FOR REGULARIZATION\n",
    "model.add(BatchNormalization())\n",
    "model.add(layers.SimpleRNN(128, input_shape=(X_train_res.shape[1],X_train_res.shape[2]), activation='tanh', return_sequences=True))   # ADD ANOTHER LAYER\n",
    "model.add(Dropout(0.1))\n",
    "model.add(BatchNormalization())\n",
    "model.add(layers.SimpleRNN(64, input_shape=(X_train_res.shape[1],X_train_res.shape[2]), activation='tanh', return_sequences=False))\n",
    "model.add(Dropout(0.2))\n",
    "model.add(BatchNormalization())\n",
    "model.add(Dense(1, activation='sigmoid'))  # FINAL CLASSIFICATION LAYER WITH 2 CLASSES AND SOFTMAX\n",
    "# ---------------------------------------------------------------------------------------------------\n",
    "# OPTIMIZER SETTINGS\n",
    "opt = tf.keras.optimizers.Adam(learning_rate=0.0017, decay=1e-6)\n",
    "\n",
    "# MODEL COMPILE\n",
    "model.compile(loss='binary_crossentropy', optimizer=opt, metrics=['accuracy','Recall','Precision',f1_score])\n",
    "\n",
    "model.summary()"
   ]
  },
  {
   "cell_type": "code",
   "execution_count": 16,
   "id": "962a95f1",
   "metadata": {},
   "outputs": [
    {
     "name": "stdout",
     "output_type": "stream",
     "text": [
      "Epoch 1/5\n",
      "2818/2818 [==============================] - 625s 221ms/step - loss: 0.5567 - accuracy: 0.6952 - recall: 0.6770 - precision: 0.7025 - f1_score: 0.6894 - val_loss: 0.5399 - val_accuracy: 0.7246 - val_recall: 0.6112 - val_precision: 0.4130 - val_f1_score: 0.4918\n",
      "Epoch 2/5\n",
      "2818/2818 [==============================] - 627s 222ms/step - loss: 0.4710 - accuracy: 0.7549 - recall: 0.7603 - precision: 0.7521 - f1_score: 0.7563 - val_loss: 0.4094 - val_accuracy: 0.7880 - val_recall: 0.8055 - val_precision: 0.5101 - val_f1_score: 0.6239\n",
      "Epoch 3/5\n",
      "2818/2818 [==============================] - 624s 221ms/step - loss: 0.3727 - accuracy: 0.8166 - recall: 0.8210 - precision: 0.8138 - f1_score: 0.8173 - val_loss: 0.3071 - val_accuracy: 0.8520 - val_recall: 0.8044 - val_precision: 0.6263 - val_f1_score: 0.7036\n",
      "Epoch 4/5\n",
      "2818/2818 [==============================] - 629s 223ms/step - loss: 0.3273 - accuracy: 0.8432 - recall: 0.8529 - precision: 0.8368 - f1_score: 0.8446 - val_loss: 0.3052 - val_accuracy: 0.8590 - val_recall: 0.7587 - val_precision: 0.6535 - val_f1_score: 0.7014\n",
      "Epoch 5/5\n",
      "2818/2818 [==============================] - 629s 223ms/step - loss: 0.2857 - accuracy: 0.8672 - recall: 0.8784 - precision: 0.8592 - f1_score: 0.8686 - val_loss: 0.2645 - val_accuracy: 0.8777 - val_recall: 0.8111 - val_precision: 0.6871 - val_f1_score: 0.7433\n"
     ]
    }
   ],
   "source": [
    "# RUN THE MODEL\n",
    "history = model.fit(X_train_res, Y_train_res, epochs=5, batch_size=512, verbose=1,\n",
    "                    validation_data=(X_test, Y_test))"
   ]
  },
  {
   "cell_type": "code",
   "execution_count": null,
   "id": "af694f73",
   "metadata": {},
   "outputs": [],
   "source": []
  },
  {
   "cell_type": "code",
   "execution_count": 19,
   "id": "4b135102",
   "metadata": {},
   "outputs": [
    {
     "name": "stdout",
     "output_type": "stream",
     "text": [
      "Epoch 1/10\n",
      "2818/2818 [==============================] - 631s 223ms/step - loss: 0.5613 - accuracy: 0.6907 - recall: 0.6718 - precision: 0.6981 - f1_score: 0.6846 - val_loss: 0.4364 - val_accuracy: 0.8011 - val_recall: 0.3415 - val_precision: 0.5776 - val_f1_score: 0.4276\n",
      "Epoch 2/10\n",
      "2818/2818 [==============================] - 620s 220ms/step - loss: 0.4752 - accuracy: 0.7537 - recall: 0.7599 - precision: 0.7506 - f1_score: 0.7552 - val_loss: 0.4557 - val_accuracy: 0.7431 - val_recall: 0.8723 - val_precision: 0.4549 - val_f1_score: 0.5973\n",
      "Epoch 3/10\n",
      "2818/2818 [==============================] - 616s 218ms/step - loss: 0.3885 - accuracy: 0.8063 - recall: 0.8171 - precision: 0.7999 - f1_score: 0.8082 - val_loss: 0.3341 - val_accuracy: 0.8361 - val_recall: 0.8418 - val_precision: 0.5878 - val_f1_score: 0.6914\n",
      "Epoch 4/10\n",
      "2818/2818 [==============================] - 1221s 433ms/step - loss: 0.3801 - accuracy: 0.8090 - recall: 0.8182 - precision: 0.8034 - f1_score: 0.8107 - val_loss: 0.4544 - val_accuracy: 0.7777 - val_recall: 0.5826 - val_precision: 0.4937 - val_f1_score: 0.5332\n",
      "Epoch 5/10\n",
      "2818/2818 [==============================] - 636s 226ms/step - loss: 0.4469 - accuracy: 0.7747 - recall: 0.7804 - precision: 0.7715 - f1_score: 0.7759 - val_loss: 0.3552 - val_accuracy: 0.8287 - val_recall: 0.6984 - val_precision: 0.5924 - val_f1_score: 0.6399\n",
      "Epoch 6/10\n",
      "2818/2818 [==============================] - 631s 224ms/step - loss: 0.3794 - accuracy: 0.8145 - recall: 0.8248 - precision: 0.8082 - f1_score: 0.8163 - val_loss: 0.3340 - val_accuracy: 0.8352 - val_recall: 0.7974 - val_precision: 0.5919 - val_f1_score: 0.6787\n",
      "Epoch 7/10\n",
      "2818/2818 [==============================] - 630s 224ms/step - loss: 0.4509 - accuracy: 0.7577 - recall: 0.7700 - precision: 0.7515 - f1_score: 0.7606 - val_loss: 0.5680 - val_accuracy: 0.6887 - val_recall: 0.6303 - val_precision: 0.3747 - val_f1_score: 0.4691\n",
      "Epoch 8/10\n",
      "2818/2818 [==============================] - 642s 228ms/step - loss: 0.5685 - accuracy: 0.6871 - recall: 0.6904 - precision: 0.6859 - f1_score: 0.6880 - val_loss: 0.4608 - val_accuracy: 0.7878 - val_recall: 0.3891 - val_precision: 0.5209 - val_f1_score: 0.4440\n",
      "Epoch 9/10\n",
      "2818/2818 [==============================] - 636s 226ms/step - loss: 0.5162 - accuracy: 0.7250 - recall: 0.7123 - precision: 0.7309 - f1_score: 0.7215 - val_loss: 0.5205 - val_accuracy: 0.7123 - val_recall: 0.7649 - val_precision: 0.4150 - val_f1_score: 0.5372\n",
      "Epoch 10/10\n",
      "2818/2818 [==============================] - 673s 239ms/step - loss: 0.5818 - accuracy: 0.6720 - recall: 0.6701 - precision: 0.6727 - f1_score: 0.6714 - val_loss: 0.5788 - val_accuracy: 0.6728 - val_recall: 0.6565 - val_precision: 0.3633 - val_f1_score: 0.4668\n"
     ]
    }
   ],
   "source": [
    "# RUN THE MODEL\n",
    "history = model.fit(X_train_res, Y_train_res, epochs=10, batch_size=512, verbose=1,\n",
    "                    validation_data=(X_test, Y_test))"
   ]
  },
  {
   "cell_type": "code",
   "execution_count": null,
   "id": "745cf8d3",
   "metadata": {},
   "outputs": [],
   "source": []
  },
  {
   "cell_type": "code",
   "execution_count": 21,
   "id": "91c51472",
   "metadata": {},
   "outputs": [
    {
     "name": "stdout",
     "output_type": "stream",
     "text": [
      "Epoch 1/5\n",
      "2818/2818 [==============================] - 644s 227ms/step - loss: 0.5868 - accuracy: 0.6695 - recall: 0.6456 - precision: 0.6781 - f1_score: 0.6611 - val_loss: 0.6981 - val_accuracy: 0.4996 - val_recall: 0.8679 - val_precision: 0.2873 - val_f1_score: 0.4311\n",
      "Epoch 2/5\n",
      "2818/2818 [==============================] - 631s 224ms/step - loss: 0.5826 - accuracy: 0.6749 - recall: 0.6718 - precision: 0.6760 - f1_score: 0.6736 - val_loss: 0.5265 - val_accuracy: 0.7204 - val_recall: 0.6218 - val_precision: 0.4091 - val_f1_score: 0.4926\n",
      "Epoch 3/5\n",
      "2818/2818 [==============================] - 641s 228ms/step - loss: 0.6065 - accuracy: 0.6461 - recall: 0.6427 - precision: 0.6471 - f1_score: 0.6445 - val_loss: 0.5298 - val_accuracy: 0.7910 - val_recall: 0.3221 - val_precision: 0.5382 - val_f1_score: 0.4014\n",
      "Epoch 4/5\n",
      "2818/2818 [==============================] - 637s 226ms/step - loss: 0.6060 - accuracy: 0.6477 - recall: 0.6351 - precision: 0.6516 - f1_score: 0.6425 - val_loss: 0.5661 - val_accuracy: 0.6808 - val_recall: 0.4746 - val_precision: 0.3374 - val_f1_score: 0.3935\n",
      "Epoch 5/5\n",
      "2818/2818 [==============================] - 637s 226ms/step - loss: 0.6551 - accuracy: 0.6094 - recall: 0.6863 - precision: 0.5949 - f1_score: 0.6369 - val_loss: 0.6483 - val_accuracy: 0.5944 - val_recall: 0.6251 - val_precision: 0.2974 - val_f1_score: 0.4022\n"
     ]
    }
   ],
   "source": [
    "# RUN THE MODEL\n",
    "history = model.fit(X_train_res, Y_train_res, epochs=5, batch_size=512, verbose=1,\n",
    "                    validation_data=(X_test, Y_test))"
   ]
  },
  {
   "cell_type": "code",
   "execution_count": null,
   "id": "5a669bcc",
   "metadata": {},
   "outputs": [],
   "source": []
  },
  {
   "cell_type": "code",
   "execution_count": 22,
   "id": "471013f3",
   "metadata": {},
   "outputs": [
    {
     "name": "stdout",
     "output_type": "stream",
     "text": [
      "Model: \"sequential_4\"\n",
      "_________________________________________________________________\n",
      " Layer (type)                Output Shape              Param #   \n",
      "=================================================================\n",
      " simple_rnn_9 (SimpleRNN)    (None, 63, 128)           16640     \n",
      "                                                                 \n",
      " dropout_9 (Dropout)         (None, 63, 128)           0         \n",
      "                                                                 \n",
      " batch_normalization_9 (Batc  (None, 63, 128)          512       \n",
      " hNormalization)                                                 \n",
      "                                                                 \n",
      " simple_rnn_10 (SimpleRNN)   (None, 63, 128)           32896     \n",
      "                                                                 \n",
      " dropout_10 (Dropout)        (None, 63, 128)           0         \n",
      "                                                                 \n",
      " batch_normalization_10 (Bat  (None, 63, 128)          512       \n",
      " chNormalization)                                                \n",
      "                                                                 \n",
      " simple_rnn_11 (SimpleRNN)   (None, 64)                12352     \n",
      "                                                                 \n",
      " dropout_11 (Dropout)        (None, 64)                0         \n",
      "                                                                 \n",
      " batch_normalization_11 (Bat  (None, 64)               256       \n",
      " chNormalization)                                                \n",
      "                                                                 \n",
      " dense_3 (Dense)             (None, 1)                 65        \n",
      "                                                                 \n",
      "=================================================================\n",
      "Total params: 63,233\n",
      "Trainable params: 62,593\n",
      "Non-trainable params: 640\n",
      "_________________________________________________________________\n"
     ]
    }
   ],
   "source": [
    "model = keras.Sequential()\n",
    "# RNN LAYER IS ADDED TO MODEL WITH 128 CELLS IN IT\n",
    "model.add(layers.SimpleRNN(128, input_shape=(X_train_res.shape[1],X_train_res.shape[2]), activation='tanh', return_sequences=True))\n",
    "model.add(Dropout(0.2))  # 20% DROPOUT ADDED FOR REGULARIZATION\n",
    "model.add(BatchNormalization())\n",
    "model.add(layers.SimpleRNN(128, input_shape=(X_train_res.shape[1],X_train_res.shape[2]), activation='tanh', return_sequences=True))   # ADD ANOTHER LAYER\n",
    "model.add(Dropout(0.1))\n",
    "model.add(BatchNormalization())\n",
    "model.add(layers.SimpleRNN(64, input_shape=(X_train_res.shape[1],X_train_res.shape[2]), activation='tanh', return_sequences=False))\n",
    "model.add(Dropout(0.2))\n",
    "model.add(BatchNormalization())\n",
    "model.add(Dense(1, activation='sigmoid'))  # FINAL CLASSIFICATION LAYER WITH 2 CLASSES AND SOFTMAX\n",
    "# ---------------------------------------------------------------------------------------------------\n",
    "# OPTIMIZER SETTINGS\n",
    "opt = tf.keras.optimizers.Adam(learning_rate=0.0017, decay=1e-6)\n",
    "\n",
    "# MODEL COMPILE\n",
    "model.compile(loss='binary_crossentropy', optimizer=opt, metrics=['accuracy','Recall','Precision'])\n",
    "\n",
    "model.summary()"
   ]
  },
  {
   "cell_type": "code",
   "execution_count": null,
   "id": "b43d2f85",
   "metadata": {},
   "outputs": [],
   "source": []
  },
  {
   "cell_type": "code",
   "execution_count": null,
   "id": "85cd197e",
   "metadata": {},
   "outputs": [],
   "source": []
  },
  {
   "cell_type": "code",
   "execution_count": null,
   "id": "7b124767",
   "metadata": {},
   "outputs": [],
   "source": []
  }
 ],
 "metadata": {
  "kernelspec": {
   "display_name": "Python 3 (ipykernel)",
   "language": "python",
   "name": "python3"
  },
  "language_info": {
   "codemirror_mode": {
    "name": "ipython",
    "version": 3
   },
   "file_extension": ".py",
   "mimetype": "text/x-python",
   "name": "python",
   "nbconvert_exporter": "python",
   "pygments_lexer": "ipython3",
   "version": "3.9.12"
  }
 },
 "nbformat": 4,
 "nbformat_minor": 5
}
