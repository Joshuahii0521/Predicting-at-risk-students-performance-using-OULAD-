{
 "cells": [
  {
   "cell_type": "code",
   "execution_count": 1,
   "id": "d739264a",
   "metadata": {},
   "outputs": [
    {
     "name": "stderr",
     "output_type": "stream",
     "text": [
      "WARNING (theano.configdefaults): g++ not available, if using conda: `conda install m2w64-toolchain`\n",
      "WARNING (theano.configdefaults): g++ not detected ! Theano will be unable to execute optimized C-implementations (for both CPU and GPU) and will default to Python implementations. Performance will be severely degraded. To remove this warning, set Theano flags cxx to an empty string.\n",
      "WARNING (theano.tensor.blas): Using NumPy C-API based implementation for BLAS functions.\n"
     ]
    }
   ],
   "source": [
    "import os\n",
    "import warnings\n",
    "import pandas as pd\n",
    "import numpy as np\n",
    "import seaborn as sns\n",
    "import matplotlib.pyplot as plt\n",
    "from sklearn import metrics\n",
    "import matplotlib.pyplot as plt\n",
    "from sklearn.decomposition import PCA\n",
    "from imblearn.over_sampling import SMOTE\n",
    "from sklearn.feature_selection import RFE\n",
    "from sklearn.model_selection import KFold\n",
    "from sklearn.metrics import accuracy_score\n",
    "from sklearn.metrics import confusion_matrix\n",
    "from sklearn.preprocessing import LabelEncoder\n",
    "from sklearn.preprocessing import StandardScaler\n",
    "from sklearn import linear_model, ensemble, tree\n",
    "from sklearn.metrics import classification_report\n",
    "from sklearn.linear_model import LogisticRegression\n",
    "from sklearn.model_selection import train_test_split\n",
    "from sklearn.model_selection import RandomizedSearchCV\n",
    "from statsmodels.stats.outliers_influence import variance_inflation_factor\n",
    "from sklearn.ensemble import RandomForestClassifier, GradientBoostingClassifier\n",
    "from sklearn.metrics import r2_score, mean_squared_error, mean_absolute_error\n",
    "from sklearn.model_selection import cross_val_score,GridSearchCV,cross_validate\n",
    "from sklearn.metrics import confusion_matrix, auc,roc_auc_score,roc_curve,recall_score,classification_report\n",
    "warnings.filterwarnings('ignore')\n",
    "pd.set_option('display.max_rows', 100, 'display.max_columns', 400)\n",
    "\n",
    "\n",
    "import os\n",
    "import pandas as pd\n",
    "import numpy as np\n",
    "import matplotlib.pyplot as plt\n",
    "import seaborn as sns\n",
    "import plotly.express as px\n",
    "from sklearn.preprocessing import OneHotEncoder, LabelEncoder\n",
    "from sklearn.experimental import enable_iterative_imputer \n",
    "from sklearn.impute import IterativeImputer\n",
    "from sklearn.tree import DecisionTreeClassifier\n",
    "from sklearn.ensemble import RandomForestClassifier\n",
    "from sklearn.ensemble import ExtraTreesClassifier, RandomForestRegressor\n",
    "from sklearn.ensemble import GradientBoostingClassifier, GradientBoostingRegressor\n",
    "from sklearn.ensemble import AdaBoostClassifier\n",
    "from sklearn.model_selection import KFold\n",
    "from sklearn.model_selection import cross_val_score, cross_validate\n",
    "from sklearn.metrics import accuracy_score\n",
    "from sklearn.metrics import confusion_matrix, auc,roc_auc_score,roc_curve,recall_score,classification_report\n",
    "from sklearn.model_selection import train_test_split\n",
    "from sklearn.model_selection import GridSearchCV\n",
    "from sklearn.svm import SVC\n",
    "from sklearn.naive_bayes import GaussianNB\n",
    "from sklearn.linear_model import LogisticRegression\n",
    "import joblib\n",
    "from mlxtend.plotting import plot_confusion_matrix\n",
    "\n",
    "import warnings\n",
    "warnings.filterwarnings(\"ignore\")\n",
    "\n",
    "\n",
    "import theano\n",
    "import theano.tensor as Tensor\n",
    "import random\n",
    "import sys\n",
    "import csv\n",
    "import time\n",
    "import utils\n",
    "import visualize\n",
    "import tensorflow as tf\n",
    "from tensorflow import keras\n",
    "from keras.models import Sequential\n",
    "from keras.layers import Dense, Embedding, LSTM, BatchNormalization, Bidirectional, LayerNormalization\n",
    "from sklearn.model_selection import train_test_split\n",
    "from keras.utils.np_utils import to_categorical\n",
    "from keras import regularizers\n",
    "import re\n",
    "from keras.layers import Dropout\n",
    "from keras.preprocessing.sequence import TimeseriesGenerator\n",
    "from tensorflow.keras.callbacks import ModelCheckpoint\n",
    "from keras.layers import Activation, Dense, Flatten "
   ]
  },
  {
   "cell_type": "code",
   "execution_count": null,
   "id": "8cbfa971",
   "metadata": {},
   "outputs": [],
   "source": [
    "!pip install mlxtend"
   ]
  },
  {
   "cell_type": "code",
   "execution_count": 2,
   "id": "25d5acdb",
   "metadata": {},
   "outputs": [],
   "source": [
    "# import the datasets\n",
    "data4 = pd.read_csv('data4.csv')"
   ]
  },
  {
   "cell_type": "code",
   "execution_count": null,
   "id": "5688f561",
   "metadata": {},
   "outputs": [],
   "source": [
    "data4"
   ]
  },
  {
   "cell_type": "code",
   "execution_count": 3,
   "id": "2dfcf448",
   "metadata": {},
   "outputs": [],
   "source": [
    "data4 = data4.drop(['Unnamed: 0'], axis = 1)"
   ]
  },
  {
   "cell_type": "code",
   "execution_count": null,
   "id": "5288ca1f",
   "metadata": {},
   "outputs": [],
   "source": [
    "data4"
   ]
  },
  {
   "cell_type": "code",
   "execution_count": 4,
   "id": "3dc4f8b6",
   "metadata": {},
   "outputs": [],
   "source": [
    "feature = data4.drop(['Result'], axis = 1)\n",
    "target  = data4['Result'].values\n",
    "\n",
    "train,test= train_test_split(data4, test_size=0.3,random_state=123, stratify=data4.Result)# stratify the outcome\n",
    "X_train =train.drop(['Result'], axis = 1)\n",
    "X_test = test.drop(['Result'], axis = 1)\n",
    "Y_train = train['Result'].values\n",
    "Y_test = test['Result'].values"
   ]
  },
  {
   "cell_type": "code",
   "execution_count": null,
   "id": "da931bb0",
   "metadata": {},
   "outputs": [],
   "source": [
    "X_train"
   ]
  },
  {
   "cell_type": "code",
   "execution_count": null,
   "id": "18da7820",
   "metadata": {},
   "outputs": [],
   "source": [
    "X_test"
   ]
  },
  {
   "cell_type": "code",
   "execution_count": null,
   "id": "13ae1ec4",
   "metadata": {},
   "outputs": [],
   "source": [
    "Y_train"
   ]
  },
  {
   "cell_type": "code",
   "execution_count": null,
   "id": "5e969e25",
   "metadata": {},
   "outputs": [],
   "source": [
    "Y_test"
   ]
  },
  {
   "cell_type": "code",
   "execution_count": null,
   "id": "5e7b3b78",
   "metadata": {},
   "outputs": [],
   "source": []
  },
  {
   "cell_type": "code",
   "execution_count": null,
   "id": "c201ff3c",
   "metadata": {},
   "outputs": [],
   "source": []
  },
  {
   "cell_type": "code",
   "execution_count": null,
   "id": "53e0edae",
   "metadata": {},
   "outputs": [],
   "source": []
  },
  {
   "cell_type": "code",
   "execution_count": null,
   "id": "361726d7",
   "metadata": {},
   "outputs": [],
   "source": []
  },
  {
   "cell_type": "code",
   "execution_count": null,
   "id": "07efed73",
   "metadata": {},
   "outputs": [],
   "source": []
  },
  {
   "cell_type": "code",
   "execution_count": null,
   "id": "e444232d",
   "metadata": {},
   "outputs": [],
   "source": []
  },
  {
   "cell_type": "code",
   "execution_count": null,
   "id": "0a7b1f10",
   "metadata": {},
   "outputs": [],
   "source": []
  },
  {
   "cell_type": "code",
   "execution_count": null,
   "id": "dcc3dc53",
   "metadata": {},
   "outputs": [],
   "source": [
    "X_train.shape"
   ]
  },
  {
   "cell_type": "code",
   "execution_count": null,
   "id": "b85d2155",
   "metadata": {},
   "outputs": [],
   "source": []
  },
  {
   "cell_type": "code",
   "execution_count": null,
   "id": "e69eefe8",
   "metadata": {},
   "outputs": [],
   "source": [
    "X_train = np.reshape(X_train, (X_train.shape[0], X_train.shape[1]))\n",
    "X_test = np.reshape(X_test, (X_test.shape[0], X_test.shape[1]))"
   ]
  },
  {
   "cell_type": "code",
   "execution_count": null,
   "id": "c1f89768",
   "metadata": {},
   "outputs": [],
   "source": [
    "trainX = np.reshape(trainX, (trainX.shape[0], 1, trainX.shape[1]))\n",
    "testX = np.reshape(testX, (testX.shape[0], 1, testX.shape[1]))"
   ]
  },
  {
   "cell_type": "code",
   "execution_count": null,
   "id": "a2d7f669",
   "metadata": {},
   "outputs": [],
   "source": [
    "Y_train = np.reshape(np.array(Y_train),(Y_train.shape[0]))\n",
    "Y_test = np.reshape(np.array(Y_test),(Y_test.shape[0]))"
   ]
  },
  {
   "cell_type": "code",
   "execution_count": null,
   "id": "835a2832",
   "metadata": {},
   "outputs": [],
   "source": []
  },
  {
   "cell_type": "code",
   "execution_count": null,
   "id": "492d1ab2",
   "metadata": {},
   "outputs": [],
   "source": [
    "X_train = np.expand_dims(X_train, axis=1)"
   ]
  },
  {
   "cell_type": "code",
   "execution_count": null,
   "id": "531f2607",
   "metadata": {},
   "outputs": [],
   "source": [
    "X_train.shape"
   ]
  },
  {
   "cell_type": "code",
   "execution_count": null,
   "id": "71146c4d",
   "metadata": {},
   "outputs": [],
   "source": [
    "X_train = np.squeeze(X_train, axis=1)"
   ]
  },
  {
   "cell_type": "code",
   "execution_count": null,
   "id": "96ae77cd",
   "metadata": {},
   "outputs": [],
   "source": [
    "X_train.shape"
   ]
  },
  {
   "cell_type": "code",
   "execution_count": null,
   "id": "8903f06a",
   "metadata": {},
   "outputs": [],
   "source": [
    "X_train = np.reshape(X_train, (X_train.shape[0], X_train.shape[1]))"
   ]
  },
  {
   "cell_type": "code",
   "execution_count": null,
   "id": "fe6d37b7",
   "metadata": {},
   "outputs": [],
   "source": []
  },
  {
   "cell_type": "code",
   "execution_count": null,
   "id": "63e751c9",
   "metadata": {},
   "outputs": [],
   "source": [
    "Y_train = np.expand_dims(Y_train, axis=1)"
   ]
  },
  {
   "cell_type": "code",
   "execution_count": null,
   "id": "450dde93",
   "metadata": {},
   "outputs": [],
   "source": [
    "Y_train.shape"
   ]
  },
  {
   "cell_type": "code",
   "execution_count": null,
   "id": "0aa8187b",
   "metadata": {},
   "outputs": [],
   "source": [
    "Y_train = np.reshape(Y_train, (Y_train.shape[0]))"
   ]
  },
  {
   "cell_type": "code",
   "execution_count": null,
   "id": "9c55c728",
   "metadata": {},
   "outputs": [],
   "source": [
    "Y_train = np.squeeze(Y_train, axis=1)"
   ]
  },
  {
   "cell_type": "code",
   "execution_count": null,
   "id": "16e1beb7",
   "metadata": {},
   "outputs": [],
   "source": []
  },
  {
   "cell_type": "code",
   "execution_count": null,
   "id": "5877094e",
   "metadata": {},
   "outputs": [],
   "source": []
  },
  {
   "cell_type": "code",
   "execution_count": null,
   "id": "f09f3a65",
   "metadata": {},
   "outputs": [],
   "source": []
  },
  {
   "cell_type": "code",
   "execution_count": null,
   "id": "98f89ae6",
   "metadata": {},
   "outputs": [],
   "source": []
  },
  {
   "cell_type": "code",
   "execution_count": null,
   "id": "79ce8a5d",
   "metadata": {},
   "outputs": [],
   "source": []
  },
  {
   "cell_type": "code",
   "execution_count": null,
   "id": "e4fac249",
   "metadata": {},
   "outputs": [],
   "source": []
  },
  {
   "cell_type": "code",
   "execution_count": null,
   "id": "986b2584",
   "metadata": {},
   "outputs": [],
   "source": []
  },
  {
   "cell_type": "code",
   "execution_count": null,
   "id": "8539edfd",
   "metadata": {},
   "outputs": [],
   "source": []
  },
  {
   "cell_type": "code",
   "execution_count": null,
   "id": "385fc770",
   "metadata": {},
   "outputs": [],
   "source": []
  },
  {
   "cell_type": "code",
   "execution_count": null,
   "id": "7d7209df",
   "metadata": {},
   "outputs": [],
   "source": [
    "generator = TimeseriesGenerator(X_train, Y_train, length=923678, batch_size=100)"
   ]
  },
  {
   "cell_type": "code",
   "execution_count": null,
   "id": "2f4ed0ad",
   "metadata": {},
   "outputs": [],
   "source": [
    "opt = tf.keras.optimizers.Adam(learning_rate=0.001, decay=1e-6)\n",
    "print(\"Adding layer 1...\")\n",
    "model = Sequential()\n",
    "model.add(LSTM(33, return_sequences=True, input_shape=(923678, 63), activation='sigmoid'))\n",
    "print(\"Adding layer 2...\")\n",
    "model.add(Dropout(0.2))\n",
    "print(\"Adding layer 3...\")\n",
    "model.add(LSTM(33, return_sequences=True))\n",
    "print(\"Adding layer 4...\")\n",
    "model.add(Dropout(0.2))\n",
    "print(\"Adding layer 5...\")\n",
    "model.add(Dense(1, activation=\"sigmoid\"))\n",
    "print(\"Adding layer 6...\")\n",
    "model.compile(optimizer='adam', loss='mse', metrics=['accuracy'])\n",
    "METRICS = [\n",
    "    #keras.metrics.TruePositives(name='tp'),\n",
    "    keras.metrics.AUC(name='accuracy'),\n",
    "    keras.metrics.Recall(name='recall'),\n",
    "    keras.metrics.Precision(name='precision'),\n",
    "    keras.metrics.AUC(name='auc')]\n",
    "print ('model compiled') \n",
    "print (model.summary())"
   ]
  },
  {
   "cell_type": "code",
   "execution_count": null,
   "id": "906c1a56",
   "metadata": {},
   "outputs": [],
   "source": [
    "filepath = \"RNN_Final-{epoch:02d}-{val_acc:.3f}\"  # unique file name that will include the epoch and the validation acc for that epoch\n",
    "checkpoint = ModelCheckpoint(\"models/{}.model\".format(filepath, monitor='val_acc', verbose=1, save_best_only=True, mode='max')) # saves only the best ones\n",
    "# Compile model\n",
    "history = model.fit(generator, steps_per_epoch=1, epochs=30, verbose=1)\n",
    "print(\"Fit DOne\")\n",
    "print(history.history.keys())\n",
    "# evaluate the model\n",
    "scores = model.evaluate(generator)"
   ]
  },
  {
   "cell_type": "code",
   "execution_count": null,
   "id": "7dd398a9",
   "metadata": {},
   "outputs": [],
   "source": [
    "history = model.fit(generator, steps_per_epoch=1, epochs=30, verbose=1)"
   ]
  },
  {
   "cell_type": "code",
   "execution_count": null,
   "id": "edbf2e9e",
   "metadata": {},
   "outputs": [],
   "source": []
  },
  {
   "cell_type": "code",
   "execution_count": null,
   "id": "8ac9973b",
   "metadata": {},
   "outputs": [],
   "source": [
    "# univariate one step problem with lstm\n",
    "from numpy import array\n",
    "from keras.models import Sequential\n",
    "from keras.layers import Dense\n",
    "from keras.layers import LSTM\n",
    "from keras.preprocessing.sequence import TimeseriesGenerator\n",
    "# define dataset\n",
    "series = array([1, 2, 3, 4, 5, 6, 7, 8, 9, 10])\n",
    "# reshape to [10, 1]\n",
    "n_features = 1\n",
    "series = series.reshape((len(series), n_features))\n",
    "# define generator\n",
    "n_input = 2\n",
    "generator = TimeseriesGenerator(series, series, length=n_input, batch_size=8)\n",
    "# define model\n",
    "model = Sequential()\n",
    "model.add(LSTM(100, activation='relu', input_shape=(n_input, n_features)))\n",
    "model.add(Dense(1))\n",
    "model.compile(optimizer='adam', loss='mse')\n",
    "# fit model\n",
    "model.fit_generator(generator, steps_per_epoch=1, epochs=500, verbose=0)\n",
    "# make a one step prediction out of sample\n",
    "x_input = array([9, 10]).reshape((1, n_input, n_features))\n",
    "yhat = model.predict(x_input, verbose=0)\n",
    "print(yhat)"
   ]
  },
  {
   "cell_type": "code",
   "execution_count": null,
   "id": "af7ae949",
   "metadata": {},
   "outputs": [],
   "source": [
    "# univariate one step problem with lstm\n",
    "from numpy import array\n",
    "from keras.models import Sequential\n",
    "from keras.layers import Dense\n",
    "from keras.layers import LSTM\n",
    "from keras.preprocessing.sequence import TimeseriesGenerator\n",
    "n_features = 63\n",
    "series = series.reshape((len(series), n_features))\n",
    "# define generator\n",
    "n_input = 923678\n",
    "generator = TimeseriesGenerator(X_train, Y_train, length=n_input, batch_size=8)\n",
    "# define model\n",
    "model = Sequential()\n",
    "model.add(LSTM(100, activation='relu', input_shape=(n_input, n_features)))\n",
    "model.add(Dense(1))\n",
    "model.compile(optimizer='adam', loss='mse')\n",
    "# fit model\n",
    "model.fit_generator(generator, steps_per_epoch=1, epochs=500, verbose=0)\n",
    "# make a one step prediction out of sample\n",
    "x_input = array([9, 10]).reshape((1, n_input, n_features))\n",
    "yhat = model.predict(x_input, verbose=0)\n",
    "print(yhat)"
   ]
  },
  {
   "cell_type": "code",
   "execution_count": null,
   "id": "9d015a8e",
   "metadata": {},
   "outputs": [],
   "source": []
  },
  {
   "cell_type": "code",
   "execution_count": null,
   "id": "eace85a6",
   "metadata": {},
   "outputs": [],
   "source": []
  },
  {
   "cell_type": "code",
   "execution_count": null,
   "id": "7c1e5862",
   "metadata": {},
   "outputs": [],
   "source": []
  },
  {
   "cell_type": "code",
   "execution_count": null,
   "id": "f91db82b",
   "metadata": {},
   "outputs": [],
   "source": []
  },
  {
   "cell_type": "code",
   "execution_count": null,
   "id": "b94b5355",
   "metadata": {},
   "outputs": [],
   "source": []
  },
  {
   "cell_type": "code",
   "execution_count": null,
   "id": "cb875e74",
   "metadata": {},
   "outputs": [],
   "source": []
  },
  {
   "cell_type": "code",
   "execution_count": null,
   "id": "4f6ce1de",
   "metadata": {},
   "outputs": [],
   "source": []
  },
  {
   "cell_type": "code",
   "execution_count": null,
   "id": "7272591c",
   "metadata": {},
   "outputs": [],
   "source": []
  },
  {
   "cell_type": "code",
   "execution_count": null,
   "id": "79176023",
   "metadata": {},
   "outputs": [],
   "source": []
  },
  {
   "cell_type": "code",
   "execution_count": null,
   "id": "f10dfba8",
   "metadata": {},
   "outputs": [],
   "source": []
  },
  {
   "cell_type": "code",
   "execution_count": null,
   "id": "a32a87fd",
   "metadata": {},
   "outputs": [],
   "source": []
  },
  {
   "cell_type": "code",
   "execution_count": null,
   "id": "afee1526",
   "metadata": {},
   "outputs": [],
   "source": []
  },
  {
   "cell_type": "code",
   "execution_count": null,
   "id": "5a9a2f32",
   "metadata": {},
   "outputs": [],
   "source": []
  },
  {
   "cell_type": "code",
   "execution_count": null,
   "id": "bd17d3e1",
   "metadata": {},
   "outputs": [],
   "source": []
  },
  {
   "cell_type": "code",
   "execution_count": null,
   "id": "d63d51a5",
   "metadata": {},
   "outputs": [],
   "source": [
    "num_folds = 10\n",
    "seed= 123\n",
    "scoring= 'accuracy'\n",
    "\n",
    "models = []\n",
    "\n",
    "# Decision Tree\n",
    "models.append(('CART', DecisionTreeClassifier()))\n",
    "#Bagging\n",
    "models.append(('RF', RandomForestClassifier()))\n",
    "models.append(('ExtraTree', ExtraTreesClassifier()))\n",
    "#Boosting\n",
    "models.append(('ADa', AdaBoostClassifier()))\n",
    "results = []\n",
    "names = []\n",
    "for name, model in models:\n",
    "  kfold = KFold(n_splits=num_folds, random_state=seed, shuffle=True)\n",
    "  cv_results = cross_val_score(model, X_train, Y_train, cv=kfold, scoring=scoring)\n",
    "  results.append(cv_results)\n",
    "  names.append(name)\n",
    "  msg = \"%s: %f (%f)\" % (name, cv_results.mean(), cv_results.std())\n",
    "  print(msg)\n"
   ]
  },
  {
   "cell_type": "code",
   "execution_count": null,
   "id": "5cea4191",
   "metadata": {},
   "outputs": [],
   "source": [
    "results_df = pd.DataFrame(results, index = names, columns = [\"fold\" + str(i) for i in range(1,11)])\n",
    "results_df"
   ]
  },
  {
   "cell_type": "code",
   "execution_count": null,
   "id": "3e60d6da",
   "metadata": {},
   "outputs": [],
   "source": [
    "# Compare Algorithms\n",
    "fig = plt.figure(figsize = (15,7))\n",
    "fig.suptitle('Algorithm Comparison')\n",
    "ax = fig.add_subplot(111)\n",
    "# for i in results_RF:\n",
    "plt.boxplot(results)\n",
    "ax.set_xticklabels(names)\n",
    "plt.show()"
   ]
  },
  {
   "cell_type": "code",
   "execution_count": null,
   "id": "8362406b",
   "metadata": {},
   "outputs": [],
   "source": [
    "conf_matrix = confusion_matrix(Y_test, preds)\n",
    "print(conf_matrix)\n",
    "fig, ax = plot_confusion_matrix(conf_mat=conf_matrix, figsize=(6, 6), cmap=plt.cm.Greens)\n",
    "plt.xlabel('Predictions', fontsize=18)\n",
    "plt.ylabel('Actuals', fontsize=18)\n",
    "plt.title('Confusion Matrix', fontsize=18)"
   ]
  },
  {
   "cell_type": "code",
   "execution_count": null,
   "id": "4da8976e",
   "metadata": {},
   "outputs": [],
   "source": [
    "# best_RF = RandomForestClassifier(n_estimators= 100, max_depth= 30, min_samples_split= 30, min_samples_leaf=1, random_state=123, n_jobs = 4)\n",
    "best_RF = RandomForestClassifier(n_estimators= 200, max_depth= 30, min_samples_split= 30, min_samples_leaf=1, random_state=123)\n",
    "\n",
    "best_RF.fit(X_train.values, Y_train)\n",
    "preds = best_RF.predict(X_test.values)\n",
    "accuracy_score(Y_test,preds)"
   ]
  },
  {
   "cell_type": "code",
   "execution_count": null,
   "id": "3100fd25",
   "metadata": {},
   "outputs": [],
   "source": [
    "conf_matrix = confusion_matrix(Y_test, preds)\n",
    "print(conf_matrix)\n",
    "fig, ax = plot_confusion_matrix(conf_mat=conf_matrix, figsize=(6, 6), cmap=plt.cm.Greens)\n",
    "plt.xlabel('Predictions', fontsize=18)\n",
    "plt.ylabel('Actuals', fontsize=18)\n",
    "plt.title('Confusion Matrix', fontsize=18)"
   ]
  },
  {
   "cell_type": "code",
   "execution_count": null,
   "id": "82a2451b",
   "metadata": {},
   "outputs": [],
   "source": [
    "from sklearn.metrics import classification_report\n",
    "print(classification_report(Y_test, preds))"
   ]
  },
  {
   "cell_type": "code",
   "execution_count": null,
   "id": "c9c7fd4c",
   "metadata": {},
   "outputs": [],
   "source": [
    "importance = pd.concat([pd.DataFrame(X_train.columns),\n",
    "                          pd.DataFrame(np.transpose(best_RF.feature_importances_))], axis = 1)\n",
    "importance.columns = ['Features', 'Coeff']\n",
    "importance = importance.sort_values('Coeff', ascending=False)\n",
    "importance"
   ]
  },
  {
   "cell_type": "code",
   "execution_count": null,
   "id": "339fcf84",
   "metadata": {},
   "outputs": [],
   "source": [
    "importances = pd.DataFrame({'FEATURE':X_train.columns,'IMPORTANCE':np.round(best_RF.feature_importances_,3)})\n",
    "importances = importances.sort_values('IMPORTANCE',ascending=True).set_index('FEATURE')\n",
    "importances.plot(kind = \"barh\", figsize = (10,5))\n",
    "plt.show();"
   ]
  },
  {
   "cell_type": "code",
   "execution_count": null,
   "id": "a0e037a8",
   "metadata": {},
   "outputs": [],
   "source": []
  },
  {
   "cell_type": "code",
   "execution_count": null,
   "id": "0a3fa6a0",
   "metadata": {},
   "outputs": [],
   "source": []
  },
  {
   "cell_type": "code",
   "execution_count": null,
   "id": "2e74a6e8",
   "metadata": {},
   "outputs": [],
   "source": []
  },
  {
   "cell_type": "code",
   "execution_count": null,
   "id": "0524846b",
   "metadata": {},
   "outputs": [],
   "source": []
  },
  {
   "cell_type": "code",
   "execution_count": null,
   "id": "b0aca30a",
   "metadata": {},
   "outputs": [],
   "source": []
  },
  {
   "cell_type": "code",
   "execution_count": null,
   "id": "ac640e51",
   "metadata": {},
   "outputs": [],
   "source": []
  },
  {
   "cell_type": "code",
   "execution_count": null,
   "id": "660e14cd",
   "metadata": {},
   "outputs": [],
   "source": []
  },
  {
   "cell_type": "code",
   "execution_count": null,
   "id": "084cb851",
   "metadata": {},
   "outputs": [],
   "source": []
  },
  {
   "cell_type": "code",
   "execution_count": null,
   "id": "0c6908da",
   "metadata": {},
   "outputs": [],
   "source": []
  },
  {
   "cell_type": "code",
   "execution_count": null,
   "id": "f8fb8a1a",
   "metadata": {},
   "outputs": [],
   "source": []
  },
  {
   "cell_type": "code",
   "execution_count": null,
   "id": "566c064f",
   "metadata": {},
   "outputs": [],
   "source": []
  },
  {
   "cell_type": "code",
   "execution_count": null,
   "id": "f745a895",
   "metadata": {},
   "outputs": [],
   "source": []
  },
  {
   "cell_type": "code",
   "execution_count": null,
   "id": "a12bada3",
   "metadata": {},
   "outputs": [],
   "source": []
  },
  {
   "cell_type": "code",
   "execution_count": null,
   "id": "58bd958b",
   "metadata": {},
   "outputs": [],
   "source": []
  },
  {
   "cell_type": "code",
   "execution_count": null,
   "id": "d7467cde",
   "metadata": {},
   "outputs": [],
   "source": []
  },
  {
   "cell_type": "code",
   "execution_count": null,
   "id": "e5316e62",
   "metadata": {},
   "outputs": [],
   "source": []
  },
  {
   "cell_type": "code",
   "execution_count": null,
   "id": "4cd33d59",
   "metadata": {},
   "outputs": [],
   "source": []
  },
  {
   "cell_type": "code",
   "execution_count": null,
   "id": "3cddae3a",
   "metadata": {},
   "outputs": [],
   "source": []
  },
  {
   "cell_type": "code",
   "execution_count": null,
   "id": "9bce4ead",
   "metadata": {},
   "outputs": [],
   "source": []
  },
  {
   "cell_type": "code",
   "execution_count": null,
   "id": "c054e786",
   "metadata": {},
   "outputs": [],
   "source": []
  },
  {
   "cell_type": "code",
   "execution_count": null,
   "id": "ec602a7c",
   "metadata": {},
   "outputs": [],
   "source": []
  },
  {
   "cell_type": "code",
   "execution_count": null,
   "id": "ffef6ab0",
   "metadata": {},
   "outputs": [],
   "source": [
    "from sklearn.preprocessing import StandardScaler, MinMaxScaler\n",
    "scaler = MinMaxScaler(feature_range=(0,1))\n",
    "training_set_scaled_X_train= scaler.fit_transform(X_train)\n",
    "training_set_scaled_Y_train= np.array(Y_train).reshape((-1,1))\n",
    "testing_set_scaled_X_test= scaler.fit_transform(X_test)\n",
    "testing_set_scaled_Y_test= np.array(Y_test).reshape((-1,1))"
   ]
  },
  {
   "cell_type": "code",
   "execution_count": null,
   "id": "c0fc3faf",
   "metadata": {},
   "outputs": [],
   "source": [
    "training_set_scaled_X_train.shape"
   ]
  },
  {
   "cell_type": "code",
   "execution_count": null,
   "id": "12144cff",
   "metadata": {},
   "outputs": [],
   "source": [
    "training_set_scaled_Y_train.shape"
   ]
  },
  {
   "cell_type": "code",
   "execution_count": null,
   "id": "affd8812",
   "metadata": {},
   "outputs": [],
   "source": [
    "X_train = np.reshape(X_train, (X_train.shape[0],X_train.shape[1]))\n",
    "X_test = np.reshape(X_test, (X_test.shape[0],X_test.shape[1]))\n",
    "Y_train = np.reshape(np.array(Y_train),(Y_train.shape[0]))\n",
    "Y_test = np.reshape(np.array(Y_test),(Y_test.shape[0]))"
   ]
  },
  {
   "cell_type": "code",
   "execution_count": null,
   "id": "9bf26114",
   "metadata": {
    "scrolled": true
   },
   "outputs": [],
   "source": [
    "X_train.shape"
   ]
  },
  {
   "cell_type": "code",
   "execution_count": null,
   "id": "b066254b",
   "metadata": {},
   "outputs": [],
   "source": []
  },
  {
   "cell_type": "code",
   "execution_count": null,
   "id": "8de0fe8a",
   "metadata": {},
   "outputs": [],
   "source": [
    "X_train = np.reshape(X_train, (X_train.shape[0],X_train.shape[1]))\n",
    "X_test = np.reshape(X_test, (X_test.shape[0],X_test.shape[1]))"
   ]
  },
  {
   "cell_type": "code",
   "execution_count": null,
   "id": "46f49f3c",
   "metadata": {},
   "outputs": [],
   "source": []
  },
  {
   "cell_type": "code",
   "execution_count": null,
   "id": "3dec02b6",
   "metadata": {},
   "outputs": [],
   "source": [
    "def LSTM_functional(data4, X_train,X_test,Y_train,Y_test):\n",
    "    normalizer=layers.Normalization()\n",
    "    normalizer.adapt(X_train)\n",
    "    \n",
    "    inputs=keras.Input(shape=(923679, 63))\n",
    "    \n",
    "    x=normalizer(inputs)\n",
    "    \n",
    "    x=layers.LSTM(512,return_sequences=True)(x)\n",
    "    x=layers.LSTM(128)(x)\n",
    "    outputs=layers.Dense(2)(x)\n",
    "    \n",
    "    model=keras.Model(inputs=inputs,outputs=outputs,name='LSTM_model')\n",
    "    \n",
    "    model.compile(loss=keras.losses.SparseCategoricalCrossentropy(from_logits=True), opimizer=keras.optimizers.RMSprop(),metrics=['acuracy'])"
   ]
  },
  {
   "cell_type": "code",
   "execution_count": null,
   "id": "31890730",
   "metadata": {},
   "outputs": [],
   "source": [
    "LSTM_functional(data4, X_train,X_test,Y_train,Y_test)"
   ]
  },
  {
   "cell_type": "code",
   "execution_count": null,
   "id": "22bebf04",
   "metadata": {},
   "outputs": [],
   "source": []
  },
  {
   "cell_type": "code",
   "execution_count": null,
   "id": "60a0ae74",
   "metadata": {},
   "outputs": [],
   "source": [
    "X_train = np.reshape(X_train, (X_train.shape[0],X_train.shape[1]))\n",
    "X_test = np.reshape(X_test, (X_test.shape[0],X_test.shape[1]))\n",
    "\n",
    "model = tf.keras.models.Sequential([tf.keras.layers.LSTM(63,\n",
    "input_shape=(923678, 63),\n",
    "activation = tf.nn.tanh,\n",
    "return_sequences=True),\n",
    "tf.keras.layers.LSTM(10, activation = tf.nn.tanh),\n",
    "tf.keras.layers.Dense(1, activation = tf.nn.relu)])\n",
    "\n",
    "model.compile(optimizer='adam', loss='mse', metrics=[tf.keras.metrics.RootMeanSquaredError()])\n",
    "\n",
    "model.fit(X_train, Y_train, epochs=100, batch_size=100, validation_data=(X_test, Y_test))"
   ]
  },
  {
   "cell_type": "code",
   "execution_count": null,
   "id": "e650f5cb",
   "metadata": {},
   "outputs": [],
   "source": []
  },
  {
   "cell_type": "code",
   "execution_count": null,
   "id": "868163b2",
   "metadata": {},
   "outputs": [],
   "source": [
    "early_stopping = tf.keras.callbacks.EarlyStopping(\n",
    "    monitor='val_loss', \n",
    "    verbose=1,\n",
    "    patience=10,\n",
    "    mode='min',\n",
    "    restore_best_weights=True)\n",
    "\n",
    "# METRICS = [\n",
    "#       keras.metrics.TruePositives(name='tp'),\n",
    "#       keras.metrics.FalsePositives(name='fp'),\n",
    "#       keras.metrics.TrueNegatives(name='tn'),\n",
    "#       keras.metrics.FalseNegatives(name='fn'), \n",
    "#       keras.metrics.BinaryAccuracy(name='accuracy'),\n",
    "#       keras.metrics.Precision(name='precision'),\n",
    "#       keras.metrics.Recall(name='recall'),\n",
    "#       keras.metrics.AUC(name='auc'),\n",
    "# ]\n",
    "\n",
    "METRICS = [\n",
    "    #keras.metrics.TruePositives(name='tp'),\n",
    "    keras.metrics.AUC(name='accuracy'),\n",
    "    keras.metrics.Recall(name='recall'),\n",
    "    keras.metrics.Precision(name='precision'),\n",
    "    keras.metrics.AUC(name='auc')\n",
    "]\n",
    "\n",
    "\n",
    "n_steps = X_train.shape[1]\n",
    "n_features = X_train.shape[2]\n",
    "\n"
   ]
  },
  {
   "cell_type": "code",
   "execution_count": null,
   "id": "cff98f36",
   "metadata": {},
   "outputs": [],
   "source": [
    "tf.keras.backend.clear_session()\n",
    "tf.compat.v1.reset_default_graph()\n",
    "tf.keras.layers.Flatten(data_format=None)\n",
    "\n",
    "from tensorflow.keras import initializers\n",
    "\n",
    "model = Sequential()\n",
    "model.add(tf.keras.layers.Masking(mask_value=0.,\n",
    "                                   input_shape=(n_steps, n_features))) \n",
    "model.add(LSTM(300, return_sequences=True, \n",
    "               dropout=0.1, recurrent_dropout=0.1))\n",
    "model.add(Dense(1,activation='sigmoid'))\n",
    "model.compile(loss = 'sparse_categorical_crossentropy', optimizer=keras.optimizers.Adam(lr=0.01),metrics = METRICS)\n",
    "print(model.summary())\n"
   ]
  },
  {
   "cell_type": "code",
   "execution_count": null,
   "id": "fda86225",
   "metadata": {},
   "outputs": [],
   "source": [
    "batch_size = 1000\n",
    "my_callbacks = [early_stopping]\n",
    "\n",
    "neg = len(Y_train[Y_train ==0])\n",
    "pos = len(Y_train[Y_train ==1])\n",
    "total = neg + pos\n",
    "weight_for_0 = (1 / neg)*(total)/2.0 \n",
    "weight_for_1 = (1 / pos)*(total)/2.0\n",
    "\n",
    "class_weight = {0: weight_for_0, 1: weight_for_1}\n",
    "\n",
    "history = model.fit(X_train, Y_train, epochs = 1000, batch_size=batch_size, \n",
    "                    validation_data=(X_test, Y_test), \n",
    "                    callbacks = my_callbacks, class_weight=class_weight,\n",
    "                    verbose = 2, shuffle=True)"
   ]
  },
  {
   "cell_type": "code",
   "execution_count": null,
   "id": "5a1dd167",
   "metadata": {},
   "outputs": [],
   "source": [
    "!pip install tensorboard"
   ]
  },
  {
   "cell_type": "code",
   "execution_count": null,
   "id": "a535dba2",
   "metadata": {},
   "outputs": [],
   "source": []
  },
  {
   "cell_type": "code",
   "execution_count": null,
   "id": "0d8edd4c",
   "metadata": {},
   "outputs": [],
   "source": []
  },
  {
   "cell_type": "code",
   "execution_count": null,
   "id": "a053ebca",
   "metadata": {},
   "outputs": [],
   "source": [
    "Y_train = np.expand_dims(Y_train, axis=0)"
   ]
  },
  {
   "cell_type": "code",
   "execution_count": null,
   "id": "f83ac323",
   "metadata": {},
   "outputs": [],
   "source": [
    "Y_train.shape"
   ]
  },
  {
   "cell_type": "code",
   "execution_count": 18,
   "id": "1116c3d8",
   "metadata": {},
   "outputs": [],
   "source": [
    "X_test = np.expand_dims(X_test, axis=1)"
   ]
  },
  {
   "cell_type": "code",
   "execution_count": 16,
   "id": "fc011b98",
   "metadata": {},
   "outputs": [],
   "source": [
    "X_test = np.squeeze(X_test, axis=0)"
   ]
  },
  {
   "cell_type": "code",
   "execution_count": 19,
   "id": "28ad6879",
   "metadata": {},
   "outputs": [
    {
     "data": {
      "text/plain": [
       "(395863, 1, 63)"
      ]
     },
     "execution_count": 19,
     "metadata": {},
     "output_type": "execute_result"
    }
   ],
   "source": [
    "X_test.shape"
   ]
  },
  {
   "cell_type": "code",
   "execution_count": null,
   "id": "fae9ee19",
   "metadata": {},
   "outputs": [],
   "source": [
    "Y_test = np.expand_dims(Y_train, axis=0)"
   ]
  },
  {
   "cell_type": "code",
   "execution_count": null,
   "id": "8b2c807d",
   "metadata": {},
   "outputs": [],
   "source": [
    "Y_test.shape"
   ]
  },
  {
   "cell_type": "code",
   "execution_count": 14,
   "id": "1ef14268",
   "metadata": {},
   "outputs": [],
   "source": [
    "X_train = np.expand_dims(X_train, axis=1)"
   ]
  },
  {
   "cell_type": "code",
   "execution_count": 12,
   "id": "8115ac55",
   "metadata": {},
   "outputs": [],
   "source": [
    "X_train = np.squeeze(X_train, axis=0)"
   ]
  },
  {
   "cell_type": "code",
   "execution_count": null,
   "id": "a90e2b79",
   "metadata": {},
   "outputs": [],
   "source": []
  },
  {
   "cell_type": "code",
   "execution_count": null,
   "id": "202eba36",
   "metadata": {},
   "outputs": [],
   "source": []
  },
  {
   "cell_type": "code",
   "execution_count": 15,
   "id": "2328591b",
   "metadata": {},
   "outputs": [
    {
     "data": {
      "text/plain": [
       "(923679, 1, 63)"
      ]
     },
     "execution_count": 15,
     "metadata": {},
     "output_type": "execute_result"
    }
   ],
   "source": [
    "X_train.shape"
   ]
  },
  {
   "cell_type": "code",
   "execution_count": 20,
   "id": "6d0f559b",
   "metadata": {},
   "outputs": [
    {
     "name": "stdout",
     "output_type": "stream",
     "text": [
      "Model: \"sequential_1\"\n",
      "_________________________________________________________________\n",
      " Layer (type)                Output Shape              Param #   \n",
      "=================================================================\n",
      " lstm_3 (LSTM)               (None, 1, 128)            98304     \n",
      "                                                                 \n",
      " dropout_4 (Dropout)         (None, 1, 128)            0         \n",
      "                                                                 \n",
      " batch_normalization_3 (Batc  (None, 1, 128)           512       \n",
      " hNormalization)                                                 \n",
      "                                                                 \n",
      " lstm_4 (LSTM)               (None, 1, 128)            131584    \n",
      "                                                                 \n",
      " dropout_5 (Dropout)         (None, 1, 128)            0         \n",
      "                                                                 \n",
      " batch_normalization_4 (Batc  (None, 1, 128)           512       \n",
      " hNormalization)                                                 \n",
      "                                                                 \n",
      " lstm_5 (LSTM)               (None, 1, 128)            131584    \n",
      "                                                                 \n",
      " dropout_6 (Dropout)         (None, 1, 128)            0         \n",
      "                                                                 \n",
      " batch_normalization_5 (Batc  (None, 1, 128)           512       \n",
      " hNormalization)                                                 \n",
      "                                                                 \n",
      " dense_2 (Dense)             (None, 1, 32)             4128      \n",
      "                                                                 \n",
      " dropout_7 (Dropout)         (None, 1, 32)             0         \n",
      "                                                                 \n",
      " dense_3 (Dense)             (None, 1, 2)              66        \n",
      "                                                                 \n",
      "=================================================================\n",
      "Total params: 367,202\n",
      "Trainable params: 366,434\n",
      "Non-trainable params: 768\n",
      "_________________________________________________________________\n"
     ]
    }
   ],
   "source": [
    "model = Sequential()\n",
    "# LSTM LAYER IS ADDED TO MODEL WITH 128 CELLS IN IT\n",
    "model.add(LSTM(128, input_shape=(X_train.shape[1],X_train.shape[2]), activation='tanh', return_sequences=True))\n",
    "model.add(Dropout(0.2))  # 20% DROPOUT ADDED FOR REGULARIZATION\n",
    "model.add(BatchNormalization())\n",
    "model.add(LSTM(128, input_shape=(X_train.shape[1],X_train.shape[2]), activation='tanh', return_sequences=True))   # ADD ANOTHER LAYER\n",
    "model.add(Dropout(0.1))\n",
    "model.add(BatchNormalization())\n",
    "model.add(LSTM(128, input_shape=(X_train.shape[1],X_train.shape[2]), activation='tanh', return_sequences=True))\n",
    "model.add(Dropout(0.2))\n",
    "model.add(BatchNormalization())\n",
    "model.add(Dense(32, activation='relu'))  # ADD A DENSE LAYER\n",
    "model.add(Dropout(0.2))\n",
    "model.add(Dense(2, activation='softmax'))  # FINAL CLASSIFICATION LAYER WITH 2 CLASSES AND SOFTMAX\n",
    "# ---------------------------------------------------------------------------------------------------\n",
    "# OPTIMIZER SETTINGS\n",
    "opt = tf.keras.optimizers.Adam(learning_rate=0.001, decay=1e-6)\n",
    "\n",
    "# MODEL COMPILE\n",
    "model.compile(loss='sparse_categorical_crossentropy', optimizer=opt, metrics=['accuracy'])\n",
    "\n",
    "model.summary()"
   ]
  },
  {
   "cell_type": "code",
   "execution_count": 21,
   "id": "2d2c3457",
   "metadata": {},
   "outputs": [
    {
     "name": "stdout",
     "output_type": "stream",
     "text": [
      "Epoch 1/100\n",
      "9237/9237 [==============================] - 87s 9ms/step - loss: 0.5224 - accuracy: 0.7790 - val_loss: 0.5143 - val_accuracy: 0.7799\n",
      "Epoch 2/100\n",
      "9237/9237 [==============================] - 79s 9ms/step - loss: 0.5175 - accuracy: 0.7796 - val_loss: 0.5140 - val_accuracy: 0.7798\n",
      "Epoch 3/100\n",
      "9237/9237 [==============================] - 82s 9ms/step - loss: 0.5188 - accuracy: 0.7800 - val_loss: 0.5188 - val_accuracy: 0.7799\n",
      "Epoch 4/100\n",
      "9237/9237 [==============================] - 84s 9ms/step - loss: 0.5197 - accuracy: 0.7800 - val_loss: 0.5176 - val_accuracy: 0.7799\n",
      "Epoch 5/100\n",
      "9237/9237 [==============================] - 82s 9ms/step - loss: 0.5196 - accuracy: 0.7800 - val_loss: 0.5179 - val_accuracy: 0.7799\n",
      "Epoch 6/100\n",
      "9237/9237 [==============================] - 82s 9ms/step - loss: 0.5195 - accuracy: 0.7799 - val_loss: 0.5173 - val_accuracy: 0.7797\n",
      "Epoch 7/100\n",
      "9237/9237 [==============================] - 82s 9ms/step - loss: 0.5194 - accuracy: 0.7798 - val_loss: 0.5173 - val_accuracy: 0.7797\n",
      "Epoch 8/100\n",
      "9237/9237 [==============================] - 82s 9ms/step - loss: 0.5193 - accuracy: 0.7799 - val_loss: 0.5172 - val_accuracy: 0.7797\n",
      "Epoch 9/100\n",
      "9237/9237 [==============================] - 82s 9ms/step - loss: 0.5193 - accuracy: 0.7799 - val_loss: 0.5171 - val_accuracy: 0.7797\n",
      "Epoch 10/100\n",
      "9237/9237 [==============================] - 82s 9ms/step - loss: 0.5190 - accuracy: 0.7798 - val_loss: 0.5170 - val_accuracy: 0.7797\n",
      "Epoch 11/100\n",
      "9237/9237 [==============================] - 82s 9ms/step - loss: 0.5191 - accuracy: 0.7799 - val_loss: 0.5170 - val_accuracy: 0.7797\n",
      "Epoch 12/100\n",
      "9237/9237 [==============================] - 82s 9ms/step - loss: 0.5190 - accuracy: 0.7798 - val_loss: 0.5171 - val_accuracy: 0.7797\n",
      "Epoch 13/100\n",
      "9237/9237 [==============================] - 82s 9ms/step - loss: 0.5191 - accuracy: 0.7799 - val_loss: 0.5171 - val_accuracy: 0.7797\n",
      "Epoch 14/100\n",
      "9237/9237 [==============================] - 84s 9ms/step - loss: 0.5190 - accuracy: 0.7798 - val_loss: 0.5171 - val_accuracy: 0.7797\n",
      "Epoch 15/100\n",
      "9237/9237 [==============================] - 83s 9ms/step - loss: 0.5191 - accuracy: 0.7798 - val_loss: 0.5174 - val_accuracy: 0.7797\n",
      "Epoch 16/100\n",
      "9237/9237 [==============================] - 82s 9ms/step - loss: 0.5191 - accuracy: 0.7798 - val_loss: 0.5172 - val_accuracy: 0.7797\n",
      "Epoch 17/100\n",
      "9237/9237 [==============================] - 83s 9ms/step - loss: 0.5190 - accuracy: 0.7798 - val_loss: 0.5170 - val_accuracy: 0.7797\n",
      "Epoch 18/100\n",
      "9237/9237 [==============================] - 82s 9ms/step - loss: 0.5190 - accuracy: 0.7798 - val_loss: 0.5172 - val_accuracy: 0.7797\n",
      "Epoch 19/100\n",
      "9237/9237 [==============================] - 82s 9ms/step - loss: 0.5190 - accuracy: 0.7799 - val_loss: 0.5169 - val_accuracy: 0.7797\n",
      "Epoch 20/100\n",
      "9237/9237 [==============================] - 82s 9ms/step - loss: 0.5190 - accuracy: 0.7798 - val_loss: 0.5173 - val_accuracy: 0.7797\n",
      "Epoch 21/100\n",
      "9237/9237 [==============================] - 83s 9ms/step - loss: 0.5189 - accuracy: 0.7799 - val_loss: 0.5171 - val_accuracy: 0.7797\n",
      "Epoch 22/100\n",
      "9237/9237 [==============================] - 83s 9ms/step - loss: 0.5190 - accuracy: 0.7798 - val_loss: 0.5170 - val_accuracy: 0.7797\n",
      "Epoch 23/100\n",
      "9237/9237 [==============================] - 83s 9ms/step - loss: 0.5190 - accuracy: 0.7799 - val_loss: 0.5172 - val_accuracy: 0.7797\n",
      "Epoch 24/100\n",
      "9237/9237 [==============================] - 83s 9ms/step - loss: 0.5189 - accuracy: 0.7798 - val_loss: 0.5170 - val_accuracy: 0.7797\n",
      "Epoch 25/100\n",
      "9237/9237 [==============================] - 83s 9ms/step - loss: 0.5190 - accuracy: 0.7798 - val_loss: 0.5171 - val_accuracy: 0.7797\n",
      "Epoch 26/100\n",
      "9237/9237 [==============================] - 83s 9ms/step - loss: 0.5190 - accuracy: 0.7798 - val_loss: 0.5170 - val_accuracy: 0.7797\n",
      "Epoch 27/100\n",
      "9237/9237 [==============================] - 83s 9ms/step - loss: 0.5190 - accuracy: 0.7799 - val_loss: 0.5170 - val_accuracy: 0.7797\n",
      "Epoch 28/100\n",
      "9237/9237 [==============================] - 79s 9ms/step - loss: 0.5190 - accuracy: 0.7799 - val_loss: 0.5170 - val_accuracy: 0.7797\n",
      "Epoch 29/100\n",
      "9237/9237 [==============================] - 77s 8ms/step - loss: 0.5189 - accuracy: 0.7799 - val_loss: 0.5173 - val_accuracy: 0.7797\n",
      "Epoch 30/100\n",
      "9237/9237 [==============================] - 77s 8ms/step - loss: 0.5189 - accuracy: 0.7799 - val_loss: 0.5172 - val_accuracy: 0.7797\n",
      "Epoch 31/100\n",
      "9237/9237 [==============================] - 77s 8ms/step - loss: 0.5190 - accuracy: 0.7798 - val_loss: 0.5171 - val_accuracy: 0.7797\n",
      "Epoch 32/100\n",
      "9237/9237 [==============================] - 77s 8ms/step - loss: 0.5189 - accuracy: 0.7799 - val_loss: 0.5170 - val_accuracy: 0.7797\n",
      "Epoch 33/100\n",
      "9237/9237 [==============================] - 78s 8ms/step - loss: 0.5189 - accuracy: 0.7798 - val_loss: 0.5172 - val_accuracy: 0.7797\n",
      "Epoch 34/100\n",
      "9237/9237 [==============================] - 78s 8ms/step - loss: 0.5189 - accuracy: 0.7799 - val_loss: 0.5169 - val_accuracy: 0.7797\n",
      "Epoch 35/100\n",
      "9237/9237 [==============================] - 77s 8ms/step - loss: 0.5190 - accuracy: 0.7799 - val_loss: 0.5172 - val_accuracy: 0.7797\n",
      "Epoch 36/100\n",
      "9237/9237 [==============================] - 77s 8ms/step - loss: 0.5190 - accuracy: 0.7798 - val_loss: 0.5172 - val_accuracy: 0.7797\n",
      "Epoch 37/100\n",
      "9237/9237 [==============================] - 77s 8ms/step - loss: 0.5189 - accuracy: 0.7799 - val_loss: 0.5169 - val_accuracy: 0.7797\n",
      "Epoch 38/100\n",
      "9237/9237 [==============================] - 77s 8ms/step - loss: 0.5189 - accuracy: 0.7799 - val_loss: 0.5169 - val_accuracy: 0.7797\n",
      "Epoch 39/100\n",
      "9237/9237 [==============================] - 77s 8ms/step - loss: 0.5190 - accuracy: 0.7798 - val_loss: 0.5169 - val_accuracy: 0.7797\n",
      "Epoch 40/100\n",
      "9237/9237 [==============================] - 77s 8ms/step - loss: 0.5189 - accuracy: 0.7798 - val_loss: 0.5170 - val_accuracy: 0.7797\n",
      "Epoch 41/100\n",
      "9237/9237 [==============================] - 77s 8ms/step - loss: 0.5190 - accuracy: 0.7798 - val_loss: 0.5172 - val_accuracy: 0.7797\n",
      "Epoch 42/100\n",
      "9237/9237 [==============================] - 77s 8ms/step - loss: 0.5190 - accuracy: 0.7798 - val_loss: 0.5173 - val_accuracy: 0.7797\n",
      "Epoch 43/100\n",
      "9237/9237 [==============================] - 78s 8ms/step - loss: 0.5189 - accuracy: 0.7798 - val_loss: 0.5174 - val_accuracy: 0.7797\n",
      "Epoch 44/100\n",
      "9237/9237 [==============================] - 77s 8ms/step - loss: 0.5189 - accuracy: 0.7798 - val_loss: 0.5175 - val_accuracy: 0.7797\n",
      "Epoch 45/100\n",
      "9237/9237 [==============================] - 77s 8ms/step - loss: 0.5189 - accuracy: 0.7798 - val_loss: 0.5169 - val_accuracy: 0.7797\n",
      "Epoch 46/100\n",
      "9237/9237 [==============================] - 78s 8ms/step - loss: 0.5189 - accuracy: 0.7799 - val_loss: 0.5170 - val_accuracy: 0.7797\n",
      "Epoch 47/100\n",
      "9237/9237 [==============================] - 77s 8ms/step - loss: 0.5189 - accuracy: 0.7798 - val_loss: 0.5169 - val_accuracy: 0.7797\n",
      "Epoch 48/100\n",
      "9237/9237 [==============================] - 77s 8ms/step - loss: 0.5190 - accuracy: 0.7799 - val_loss: 0.5168 - val_accuracy: 0.7797\n",
      "Epoch 49/100\n",
      "9237/9237 [==============================] - 77s 8ms/step - loss: 0.5189 - accuracy: 0.7798 - val_loss: 0.5168 - val_accuracy: 0.7797\n",
      "Epoch 50/100\n",
      "9237/9237 [==============================] - 77s 8ms/step - loss: 0.5190 - accuracy: 0.7798 - val_loss: 0.5170 - val_accuracy: 0.7797\n",
      "Epoch 51/100\n",
      "9237/9237 [==============================] - 83s 9ms/step - loss: 0.5189 - accuracy: 0.7798 - val_loss: 0.5171 - val_accuracy: 0.7797\n",
      "Epoch 52/100\n",
      "9237/9237 [==============================] - 83s 9ms/step - loss: 0.5190 - accuracy: 0.7798 - val_loss: 0.5169 - val_accuracy: 0.7797\n",
      "Epoch 53/100\n",
      "9237/9237 [==============================] - 82s 9ms/step - loss: 0.5190 - accuracy: 0.7798 - val_loss: 0.5170 - val_accuracy: 0.7797\n",
      "Epoch 54/100\n",
      "9237/9237 [==============================] - 83s 9ms/step - loss: 0.5188 - accuracy: 0.7798 - val_loss: 0.5169 - val_accuracy: 0.7797\n",
      "Epoch 55/100\n",
      "9237/9237 [==============================] - 82s 9ms/step - loss: 0.5189 - accuracy: 0.7798 - val_loss: 0.5169 - val_accuracy: 0.7797\n",
      "Epoch 56/100\n",
      "9237/9237 [==============================] - 83s 9ms/step - loss: 0.5188 - accuracy: 0.7798 - val_loss: 0.5171 - val_accuracy: 0.7797\n"
     ]
    },
    {
     "name": "stdout",
     "output_type": "stream",
     "text": [
      "Epoch 57/100\n",
      "9237/9237 [==============================] - 81s 9ms/step - loss: 0.5189 - accuracy: 0.7798 - val_loss: 0.5169 - val_accuracy: 0.7797\n",
      "Epoch 58/100\n",
      "9237/9237 [==============================] - 82s 9ms/step - loss: 0.5189 - accuracy: 0.7798 - val_loss: 0.5171 - val_accuracy: 0.7797\n",
      "Epoch 59/100\n",
      "9237/9237 [==============================] - 82s 9ms/step - loss: 0.5189 - accuracy: 0.7798 - val_loss: 0.5173 - val_accuracy: 0.7797\n",
      "Epoch 60/100\n",
      "9237/9237 [==============================] - 82s 9ms/step - loss: 0.5190 - accuracy: 0.7798 - val_loss: 0.5171 - val_accuracy: 0.7797\n",
      "Epoch 61/100\n",
      "9237/9237 [==============================] - 81s 9ms/step - loss: 0.5190 - accuracy: 0.7798 - val_loss: 0.5171 - val_accuracy: 0.7797\n",
      "Epoch 62/100\n",
      "9237/9237 [==============================] - 81s 9ms/step - loss: 0.5189 - accuracy: 0.7798 - val_loss: 0.5171 - val_accuracy: 0.7797\n",
      "Epoch 63/100\n",
      "9237/9237 [==============================] - 81s 9ms/step - loss: 0.5189 - accuracy: 0.7798 - val_loss: 0.5170 - val_accuracy: 0.7797\n",
      "Epoch 64/100\n",
      "9237/9237 [==============================] - 78s 8ms/step - loss: 0.5189 - accuracy: 0.7798 - val_loss: 0.5170 - val_accuracy: 0.7797\n",
      "Epoch 65/100\n",
      "9237/9237 [==============================] - 77s 8ms/step - loss: 0.5190 - accuracy: 0.7798 - val_loss: 0.5176 - val_accuracy: 0.7797\n",
      "Epoch 66/100\n",
      "9237/9237 [==============================] - 77s 8ms/step - loss: 0.5189 - accuracy: 0.7798 - val_loss: 0.5175 - val_accuracy: 0.7797\n",
      "Epoch 67/100\n",
      "9237/9237 [==============================] - 77s 8ms/step - loss: 0.5190 - accuracy: 0.7798 - val_loss: 0.5179 - val_accuracy: 0.7797\n",
      "Epoch 68/100\n",
      "9237/9237 [==============================] - 77s 8ms/step - loss: 0.5189 - accuracy: 0.7798 - val_loss: 0.5172 - val_accuracy: 0.7797\n",
      "Epoch 69/100\n",
      "9237/9237 [==============================] - 77s 8ms/step - loss: 0.5190 - accuracy: 0.7799 - val_loss: 0.5172 - val_accuracy: 0.7797\n",
      "Epoch 70/100\n",
      "9237/9237 [==============================] - 77s 8ms/step - loss: 0.5191 - accuracy: 0.7798 - val_loss: 0.5171 - val_accuracy: 0.7797\n",
      "Epoch 71/100\n",
      "9237/9237 [==============================] - 77s 8ms/step - loss: 0.5189 - accuracy: 0.7798 - val_loss: 0.5171 - val_accuracy: 0.7797\n",
      "Epoch 72/100\n",
      "9237/9237 [==============================] - 77s 8ms/step - loss: 0.5190 - accuracy: 0.7799 - val_loss: 0.5170 - val_accuracy: 0.7797\n",
      "Epoch 73/100\n",
      "9237/9237 [==============================] - 77s 8ms/step - loss: 0.5189 - accuracy: 0.7798 - val_loss: 0.5171 - val_accuracy: 0.7797\n",
      "Epoch 74/100\n",
      "9237/9237 [==============================] - 77s 8ms/step - loss: 0.5190 - accuracy: 0.7798 - val_loss: 0.5171 - val_accuracy: 0.7797\n",
      "Epoch 75/100\n",
      "9237/9237 [==============================] - 77s 8ms/step - loss: 0.5189 - accuracy: 0.7798 - val_loss: 0.5170 - val_accuracy: 0.7797\n",
      "Epoch 76/100\n",
      "9237/9237 [==============================] - 77s 8ms/step - loss: 0.5189 - accuracy: 0.7798 - val_loss: 0.5170 - val_accuracy: 0.7797\n",
      "Epoch 77/100\n",
      "9237/9237 [==============================] - 77s 8ms/step - loss: 0.5189 - accuracy: 0.7798 - val_loss: 0.5171 - val_accuracy: 0.7797\n",
      "Epoch 78/100\n",
      "9237/9237 [==============================] - 77s 8ms/step - loss: 0.5189 - accuracy: 0.7798 - val_loss: 0.5171 - val_accuracy: 0.7797\n",
      "Epoch 79/100\n",
      "9237/9237 [==============================] - 77s 8ms/step - loss: 0.5189 - accuracy: 0.7798 - val_loss: 0.5171 - val_accuracy: 0.7797\n",
      "Epoch 80/100\n",
      "9237/9237 [==============================] - 77s 8ms/step - loss: 0.5189 - accuracy: 0.7798 - val_loss: 0.5172 - val_accuracy: 0.7797\n",
      "Epoch 81/100\n",
      "9237/9237 [==============================] - 77s 8ms/step - loss: 0.5190 - accuracy: 0.7798 - val_loss: 0.5171 - val_accuracy: 0.7797\n",
      "Epoch 82/100\n",
      "9237/9237 [==============================] - 77s 8ms/step - loss: 0.5189 - accuracy: 0.7798 - val_loss: 0.5169 - val_accuracy: 0.7797\n",
      "Epoch 83/100\n",
      "9237/9237 [==============================] - 77s 8ms/step - loss: 0.5189 - accuracy: 0.7798 - val_loss: 0.5169 - val_accuracy: 0.7797\n",
      "Epoch 84/100\n",
      "9237/9237 [==============================] - 77s 8ms/step - loss: 0.5189 - accuracy: 0.7798 - val_loss: 0.5170 - val_accuracy: 0.7797\n",
      "Epoch 85/100\n",
      "9237/9237 [==============================] - 77s 8ms/step - loss: 0.5188 - accuracy: 0.7798 - val_loss: 0.5170 - val_accuracy: 0.7797\n",
      "Epoch 86/100\n",
      "9237/9237 [==============================] - 77s 8ms/step - loss: 0.5188 - accuracy: 0.7798 - val_loss: 0.5175 - val_accuracy: 0.7797\n",
      "Epoch 87/100\n",
      "9237/9237 [==============================] - 77s 8ms/step - loss: 0.5190 - accuracy: 0.7798 - val_loss: 0.5178 - val_accuracy: 0.7797\n",
      "Epoch 88/100\n",
      "9237/9237 [==============================] - 77s 8ms/step - loss: 0.5190 - accuracy: 0.7798 - val_loss: 0.5181 - val_accuracy: 0.7797\n",
      "Epoch 89/100\n",
      "9237/9237 [==============================] - 77s 8ms/step - loss: 0.5189 - accuracy: 0.7798 - val_loss: 0.5170 - val_accuracy: 0.7797\n",
      "Epoch 90/100\n",
      "9237/9237 [==============================] - 77s 8ms/step - loss: 0.5189 - accuracy: 0.7798 - val_loss: 0.5170 - val_accuracy: 0.7797\n",
      "Epoch 91/100\n",
      "9237/9237 [==============================] - 77s 8ms/step - loss: 0.5189 - accuracy: 0.7798 - val_loss: 0.5170 - val_accuracy: 0.7797\n",
      "Epoch 92/100\n",
      "9237/9237 [==============================] - 77s 8ms/step - loss: 0.5189 - accuracy: 0.7798 - val_loss: 0.5171 - val_accuracy: 0.7797\n",
      "Epoch 93/100\n",
      "9237/9237 [==============================] - 78s 8ms/step - loss: 0.5189 - accuracy: 0.7798 - val_loss: 0.5173 - val_accuracy: 0.7797\n",
      "Epoch 94/100\n",
      "9237/9237 [==============================] - 82s 9ms/step - loss: 0.5190 - accuracy: 0.7798 - val_loss: 0.5171 - val_accuracy: 0.7797\n",
      "Epoch 95/100\n",
      "9237/9237 [==============================] - 83s 9ms/step - loss: 0.5189 - accuracy: 0.7798 - val_loss: 0.5170 - val_accuracy: 0.7797\n",
      "Epoch 96/100\n",
      "9237/9237 [==============================] - 83s 9ms/step - loss: 0.5189 - accuracy: 0.7798 - val_loss: 0.5173 - val_accuracy: 0.7797\n",
      "Epoch 97/100\n",
      "9237/9237 [==============================] - 83s 9ms/step - loss: 0.5188 - accuracy: 0.7798 - val_loss: 0.5170 - val_accuracy: 0.7797\n",
      "Epoch 98/100\n",
      "9237/9237 [==============================] - 83s 9ms/step - loss: 0.5188 - accuracy: 0.7798 - val_loss: 0.5171 - val_accuracy: 0.7797\n",
      "Epoch 99/100\n",
      "9237/9237 [==============================] - 83s 9ms/step - loss: 0.5191 - accuracy: 0.7799 - val_loss: 0.5172 - val_accuracy: 0.7797\n",
      "Epoch 100/100\n",
      "9237/9237 [==============================] - 83s 9ms/step - loss: 0.5189 - accuracy: 0.7798 - val_loss: 0.5169 - val_accuracy: 0.7797\n"
     ]
    }
   ],
   "source": [
    "# RUN THE MODEL\n",
    "history = model.fit(X_train, Y_train, epochs=100, batch_size=100, verbose=1,\n",
    "                    validation_data=(X_test, Y_test))"
   ]
  },
  {
   "cell_type": "code",
   "execution_count": null,
   "id": "74af6f47",
   "metadata": {},
   "outputs": [],
   "source": []
  },
  {
   "cell_type": "code",
   "execution_count": null,
   "id": "23494265",
   "metadata": {},
   "outputs": [],
   "source": []
  },
  {
   "cell_type": "code",
   "execution_count": null,
   "id": "34ac7c30",
   "metadata": {},
   "outputs": [],
   "source": []
  },
  {
   "cell_type": "code",
   "execution_count": 70,
   "id": "1352e99f",
   "metadata": {},
   "outputs": [],
   "source": [
    "X_train = np.squeeze(X_train, axis=2)"
   ]
  },
  {
   "cell_type": "code",
   "execution_count": 71,
   "id": "13a8ad54",
   "metadata": {},
   "outputs": [],
   "source": [
    "X_train = np.expand_dims(X_train, axis=1)"
   ]
  },
  {
   "cell_type": "code",
   "execution_count": null,
   "id": "8acdd0d5",
   "metadata": {},
   "outputs": [],
   "source": []
  },
  {
   "cell_type": "code",
   "execution_count": 72,
   "id": "14246a28",
   "metadata": {},
   "outputs": [
    {
     "data": {
      "text/plain": [
       "(923679, 1, 63)"
      ]
     },
     "execution_count": 72,
     "metadata": {},
     "output_type": "execute_result"
    }
   ],
   "source": [
    "X_train.shape"
   ]
  },
  {
   "cell_type": "code",
   "execution_count": null,
   "id": "adae1d1c",
   "metadata": {},
   "outputs": [],
   "source": []
  },
  {
   "cell_type": "code",
   "execution_count": 73,
   "id": "2854452e",
   "metadata": {},
   "outputs": [
    {
     "name": "stdout",
     "output_type": "stream",
     "text": [
      "Model: \"sequential_18\"\n",
      "_________________________________________________________________\n",
      " Layer (type)                Output Shape              Param #   \n",
      "=================================================================\n",
      " lstm_54 (LSTM)              (None, 1, 128)            98304     \n",
      "                                                                 \n",
      " dropout_72 (Dropout)        (None, 1, 128)            0         \n",
      "                                                                 \n",
      " batch_normalization_54 (Bat  (None, 1, 128)           512       \n",
      " chNormalization)                                                \n",
      "                                                                 \n",
      " lstm_55 (LSTM)              (None, 1, 128)            131584    \n",
      "                                                                 \n",
      " dropout_73 (Dropout)        (None, 1, 128)            0         \n",
      "                                                                 \n",
      " batch_normalization_55 (Bat  (None, 1, 128)           512       \n",
      " chNormalization)                                                \n",
      "                                                                 \n",
      " lstm_56 (LSTM)              (None, 1, 128)            131584    \n",
      "                                                                 \n",
      " dropout_74 (Dropout)        (None, 1, 128)            0         \n",
      "                                                                 \n",
      " batch_normalization_56 (Bat  (None, 1, 128)           512       \n",
      " chNormalization)                                                \n",
      "                                                                 \n",
      " dense_36 (Dense)            (None, 1, 32)             4128      \n",
      "                                                                 \n",
      " dropout_75 (Dropout)        (None, 1, 32)             0         \n",
      "                                                                 \n",
      " dense_37 (Dense)            (None, 1, 2)              66        \n",
      "                                                                 \n",
      "=================================================================\n",
      "Total params: 367,202\n",
      "Trainable params: 366,434\n",
      "Non-trainable params: 768\n",
      "_________________________________________________________________\n"
     ]
    }
   ],
   "source": [
    "model = Sequential()\n",
    "# LSTM LAYER IS ADDED TO MODEL WITH 128 CELLS IN IT\n",
    "model.add(LSTM(128, input_shape=(X_train.shape[1],X_train.shape[2]), activation='tanh', return_sequences=True))\n",
    "model.add(Dropout(0.2))  # 20% DROPOUT ADDED FOR REGULARIZATION\n",
    "model.add(BatchNormalization())\n",
    "model.add(LSTM(128, input_shape=(X_train.shape[1],X_train.shape[2]), activation='tanh', return_sequences=True))   # ADD ANOTHER LAYER\n",
    "model.add(Dropout(0.1))\n",
    "model.add(BatchNormalization())\n",
    "model.add(LSTM(128, input_shape=(X_train.shape[1],X_train.shape[2]), activation='tanh', return_sequences=True))\n",
    "model.add(Dropout(0.2))\n",
    "model.add(BatchNormalization())\n",
    "model.add(Dense(32, activation='relu'))  # ADD A DENSE LAYER\n",
    "model.add(Dropout(0.2))\n",
    "model.add(Dense(2, activation='softmax'))  # FINAL CLASSIFICATION LAYER WITH 2 CLASSES AND SOFTMAX\n",
    "# ---------------------------------------------------------------------------------------------------\n",
    "# OPTIMIZER SETTINGS\n",
    "opt = tf.keras.optimizers.Adam(learning_rate=0.001, decay=1e-6)\n",
    "\n",
    "# MODEL COMPILE\n",
    "model.compile(loss='sparse_categorical_crossentropy', optimizer=opt, metrics=['accuracy'])\n",
    "\n",
    "model.summary()"
   ]
  },
  {
   "cell_type": "code",
   "execution_count": 74,
   "id": "359b499c",
   "metadata": {},
   "outputs": [
    {
     "name": "stdout",
     "output_type": "stream",
     "text": [
      "Epoch 1/20\n",
      "18474/18474 [==============================] - 146s 8ms/step - loss: 0.5250 - accuracy: 0.7798 - val_loss: 0.5202 - val_accuracy: 0.7800\n",
      "Epoch 2/20\n",
      "18474/18474 [==============================] - 135s 7ms/step - loss: 0.5215 - accuracy: 0.7802 - val_loss: 0.5192 - val_accuracy: 0.7799\n",
      "Epoch 3/20\n",
      "18474/18474 [==============================] - 133s 7ms/step - loss: 0.5212 - accuracy: 0.7802 - val_loss: 0.5195 - val_accuracy: 0.7801\n",
      "Epoch 4/20\n",
      "18474/18474 [==============================] - 136s 7ms/step - loss: 0.5209 - accuracy: 0.7801 - val_loss: 0.5192 - val_accuracy: 0.7801\n",
      "Epoch 5/20\n",
      "18474/18474 [==============================] - 132s 7ms/step - loss: 0.5208 - accuracy: 0.7802 - val_loss: 0.5194 - val_accuracy: 0.7802\n",
      "Epoch 6/20\n",
      "18474/18474 [==============================] - 132s 7ms/step - loss: 0.5208 - accuracy: 0.7801 - val_loss: 0.5183 - val_accuracy: 0.7799\n",
      "Epoch 7/20\n",
      "18474/18474 [==============================] - 133s 7ms/step - loss: 0.5208 - accuracy: 0.7800 - val_loss: 0.5195 - val_accuracy: 0.7799\n",
      "Epoch 8/20\n",
      "18474/18474 [==============================] - 132s 7ms/step - loss: 0.5211 - accuracy: 0.7801 - val_loss: 0.5188 - val_accuracy: 0.7799\n",
      "Epoch 9/20\n",
      "18474/18474 [==============================] - 130s 7ms/step - loss: 0.5212 - accuracy: 0.7800 - val_loss: 0.5191 - val_accuracy: 0.7799\n",
      "Epoch 10/20\n",
      "18474/18474 [==============================] - 127s 7ms/step - loss: 0.5212 - accuracy: 0.7801 - val_loss: 0.5193 - val_accuracy: 0.7799\n",
      "Epoch 11/20\n",
      "18474/18474 [==============================] - 130s 7ms/step - loss: 0.5211 - accuracy: 0.7801 - val_loss: 0.5191 - val_accuracy: 0.7799\n",
      "Epoch 12/20\n",
      "18474/18474 [==============================] - 132s 7ms/step - loss: 0.5210 - accuracy: 0.7801 - val_loss: 0.5188 - val_accuracy: 0.7799\n",
      "Epoch 13/20\n",
      "18474/18474 [==============================] - 132s 7ms/step - loss: 0.5210 - accuracy: 0.7801 - val_loss: 0.5188 - val_accuracy: 0.7799\n",
      "Epoch 14/20\n",
      "18474/18474 [==============================] - 132s 7ms/step - loss: 0.5210 - accuracy: 0.7800 - val_loss: 0.5187 - val_accuracy: 0.7799\n",
      "Epoch 15/20\n",
      "18474/18474 [==============================] - 133s 7ms/step - loss: 0.5210 - accuracy: 0.7800 - val_loss: 0.5189 - val_accuracy: 0.7799\n",
      "Epoch 16/20\n",
      "18474/18474 [==============================] - 133s 7ms/step - loss: 0.5209 - accuracy: 0.7801 - val_loss: 0.5187 - val_accuracy: 0.7799\n",
      "Epoch 17/20\n",
      "18474/18474 [==============================] - 132s 7ms/step - loss: 0.5209 - accuracy: 0.7801 - val_loss: 0.5189 - val_accuracy: 0.7799\n",
      "Epoch 18/20\n",
      "18474/18474 [==============================] - 132s 7ms/step - loss: 0.5210 - accuracy: 0.7800 - val_loss: 0.5190 - val_accuracy: 0.7799\n",
      "Epoch 19/20\n",
      "18474/18474 [==============================] - 132s 7ms/step - loss: 0.5209 - accuracy: 0.7801 - val_loss: 0.5191 - val_accuracy: 0.7799\n",
      "Epoch 20/20\n",
      "18474/18474 [==============================] - 127s 7ms/step - loss: 0.5209 - accuracy: 0.7800 - val_loss: 0.5188 - val_accuracy: 0.7799\n"
     ]
    }
   ],
   "source": [
    "# RUN THE MODEL\n",
    "history = model.fit(X_train, Y_train, epochs=20, batch_size=50, verbose=1,\n",
    "                    validation_data=(X_test, Y_test))"
   ]
  },
  {
   "cell_type": "code",
   "execution_count": null,
   "id": "6c9a61fc",
   "metadata": {},
   "outputs": [],
   "source": []
  },
  {
   "cell_type": "code",
   "execution_count": null,
   "id": "966c1af4",
   "metadata": {},
   "outputs": [],
   "source": []
  },
  {
   "cell_type": "code",
   "execution_count": 7,
   "id": "5a46825f",
   "metadata": {},
   "outputs": [],
   "source": [
    "X_test = np.expand_dims(X_test, axis=2)"
   ]
  },
  {
   "cell_type": "code",
   "execution_count": 76,
   "id": "5dc15ab8",
   "metadata": {},
   "outputs": [],
   "source": [
    "X_test = np.squeeze(X_test, axis=1)"
   ]
  },
  {
   "cell_type": "code",
   "execution_count": 8,
   "id": "9a89d822",
   "metadata": {},
   "outputs": [
    {
     "data": {
      "text/plain": [
       "(395863, 63, 1)"
      ]
     },
     "execution_count": 8,
     "metadata": {},
     "output_type": "execute_result"
    }
   ],
   "source": [
    "X_test.shape"
   ]
  },
  {
   "cell_type": "code",
   "execution_count": null,
   "id": "3dd6cae7",
   "metadata": {},
   "outputs": [],
   "source": []
  },
  {
   "cell_type": "code",
   "execution_count": null,
   "id": "12b8a106",
   "metadata": {},
   "outputs": [],
   "source": [
    "X_train = np.squeeze(X_train, axis=2)"
   ]
  },
  {
   "cell_type": "code",
   "execution_count": 5,
   "id": "2d4a7445",
   "metadata": {},
   "outputs": [],
   "source": [
    "X_train = np.expand_dims(X_train, axis=2)"
   ]
  },
  {
   "cell_type": "code",
   "execution_count": 6,
   "id": "068d8eb7",
   "metadata": {},
   "outputs": [
    {
     "data": {
      "text/plain": [
       "(923679, 63, 1)"
      ]
     },
     "execution_count": 6,
     "metadata": {},
     "output_type": "execute_result"
    }
   ],
   "source": [
    "X_train.shape"
   ]
  },
  {
   "cell_type": "code",
   "execution_count": null,
   "id": "60c62639",
   "metadata": {},
   "outputs": [],
   "source": []
  },
  {
   "cell_type": "code",
   "execution_count": null,
   "id": "752d4b5b",
   "metadata": {},
   "outputs": [],
   "source": []
  },
  {
   "cell_type": "code",
   "execution_count": 9,
   "id": "ffaa1b99",
   "metadata": {},
   "outputs": [
    {
     "name": "stdout",
     "output_type": "stream",
     "text": [
      "Model: \"sequential\"\n",
      "_________________________________________________________________\n",
      " Layer (type)                Output Shape              Param #   \n",
      "=================================================================\n",
      " lstm (LSTM)                 (None, 63, 128)           66560     \n",
      "                                                                 \n",
      " dropout (Dropout)           (None, 63, 128)           0         \n",
      "                                                                 \n",
      " batch_normalization (BatchN  (None, 63, 128)          512       \n",
      " ormalization)                                                   \n",
      "                                                                 \n",
      " lstm_1 (LSTM)               (None, 63, 128)           131584    \n",
      "                                                                 \n",
      " dropout_1 (Dropout)         (None, 63, 128)           0         \n",
      "                                                                 \n",
      " batch_normalization_1 (Batc  (None, 63, 128)          512       \n",
      " hNormalization)                                                 \n",
      "                                                                 \n",
      " lstm_2 (LSTM)               (None, 128)               131584    \n",
      "                                                                 \n",
      " dropout_2 (Dropout)         (None, 128)               0         \n",
      "                                                                 \n",
      " batch_normalization_2 (Batc  (None, 128)              512       \n",
      " hNormalization)                                                 \n",
      "                                                                 \n",
      " dense (Dense)               (None, 32)                4128      \n",
      "                                                                 \n",
      " dropout_3 (Dropout)         (None, 32)                0         \n",
      "                                                                 \n",
      " dense_1 (Dense)             (None, 2)                 66        \n",
      "                                                                 \n",
      "=================================================================\n",
      "Total params: 335,458\n",
      "Trainable params: 334,690\n",
      "Non-trainable params: 768\n",
      "_________________________________________________________________\n"
     ]
    }
   ],
   "source": [
    "model = Sequential()\n",
    "# LSTM LAYER IS ADDED TO MODEL WITH 128 CELLS IN IT\n",
    "model.add(LSTM(128, input_shape=(X_train.shape[1],X_train.shape[2]), activation='tanh', return_sequences=True))\n",
    "model.add(Dropout(0.2))  # 20% DROPOUT ADDED FOR REGULARIZATION\n",
    "model.add(BatchNormalization())\n",
    "model.add(LSTM(128, input_shape=(X_train.shape[1],X_train.shape[2]), activation='tanh', return_sequences=True))   # ADD ANOTHER LAYER\n",
    "model.add(Dropout(0.1))\n",
    "model.add(BatchNormalization())\n",
    "model.add(LSTM(128, input_shape=(X_train.shape[1],X_train.shape[2]), activation='tanh', return_sequences=False))\n",
    "model.add(Dropout(0.2))\n",
    "model.add(BatchNormalization())\n",
    "model.add(Dense(32, activation='relu'))  # ADD A DENSE LAYER\n",
    "model.add(Dropout(0.2))\n",
    "model.add(Dense(2, activation='softmax'))  # FINAL CLASSIFICATION LAYER WITH 2 CLASSES AND SOFTMAX\n",
    "# ---------------------------------------------------------------------------------------------------\n",
    "# OPTIMIZER SETTINGS\n",
    "opt = tf.keras.optimizers.Adam(learning_rate=0.001, decay=1e-6)\n",
    "\n",
    "# MODEL COMPILE\n",
    "model.compile(loss='sparse_categorical_crossentropy', optimizer=opt, metrics=['accuracy'])\n",
    "\n",
    "model.summary()"
   ]
  },
  {
   "cell_type": "code",
   "execution_count": null,
   "id": "f2131154",
   "metadata": {},
   "outputs": [
    {
     "name": "stdout",
     "output_type": "stream",
     "text": [
      "Epoch 1/10\n",
      "18474/18474 [==============================] - 2353s 127ms/step - loss: 0.4681 - accuracy: 0.8027 - val_loss: 0.4262 - val_accuracy: 0.8117\n",
      "Epoch 2/10\n",
      "18474/18474 [==============================] - 2330s 126ms/step - loss: 0.3421 - accuracy: 0.8509 - val_loss: 0.2235 - val_accuracy: 0.9042\n",
      "Epoch 3/10\n",
      "18474/18474 [==============================] - 2325s 126ms/step - loss: 0.2054 - accuracy: 0.9128 - val_loss: 0.1451 - val_accuracy: 0.9351\n",
      "Epoch 4/10\n",
      "13679/18474 [=====================>........] - ETA: 8:54 - loss: 0.1613 - accuracy: 0.9300"
     ]
    }
   ],
   "source": [
    "# RUN THE MODEL\n",
    "history = model.fit(X_train, Y_train, epochs=10, batch_size=50, verbose=1,\n",
    "                    validation_data=(X_test, Y_test))"
   ]
  },
  {
   "cell_type": "code",
   "execution_count": null,
   "id": "e179c97e",
   "metadata": {},
   "outputs": [],
   "source": [
    "scores = model.evaluate(history)  "
   ]
  },
  {
   "cell_type": "code",
   "execution_count": null,
   "id": "841192ae",
   "metadata": {},
   "outputs": [],
   "source": []
  },
  {
   "cell_type": "code",
   "execution_count": null,
   "id": "0ea7e92e",
   "metadata": {},
   "outputs": [],
   "source": []
  },
  {
   "cell_type": "code",
   "execution_count": null,
   "id": "0589c6ab",
   "metadata": {},
   "outputs": [],
   "source": []
  },
  {
   "cell_type": "code",
   "execution_count": null,
   "id": "de8cda96",
   "metadata": {},
   "outputs": [],
   "source": []
  },
  {
   "cell_type": "code",
   "execution_count": 5,
   "id": "9970d85f",
   "metadata": {},
   "outputs": [],
   "source": [
    "X_test = np.expand_dims(X_test, axis=2)"
   ]
  },
  {
   "cell_type": "code",
   "execution_count": null,
   "id": "a69046d9",
   "metadata": {},
   "outputs": [],
   "source": [
    "X_test = np.squeeze(X_test, axis=1)"
   ]
  },
  {
   "cell_type": "code",
   "execution_count": 6,
   "id": "73b0a6e5",
   "metadata": {},
   "outputs": [
    {
     "data": {
      "text/plain": [
       "(395863, 63, 1)"
      ]
     },
     "execution_count": 6,
     "metadata": {},
     "output_type": "execute_result"
    }
   ],
   "source": [
    "X_test.shape"
   ]
  },
  {
   "cell_type": "code",
   "execution_count": null,
   "id": "bd28cd5e",
   "metadata": {},
   "outputs": [],
   "source": []
  },
  {
   "cell_type": "code",
   "execution_count": null,
   "id": "59ef073d",
   "metadata": {},
   "outputs": [],
   "source": []
  },
  {
   "cell_type": "code",
   "execution_count": null,
   "id": "1b85fb85",
   "metadata": {},
   "outputs": [],
   "source": [
    "X_train = np.squeeze(X_train, axis=2)"
   ]
  },
  {
   "cell_type": "code",
   "execution_count": 8,
   "id": "a7d89180",
   "metadata": {},
   "outputs": [],
   "source": [
    "X_train = np.expand_dims(X_train, axis=2)"
   ]
  },
  {
   "cell_type": "code",
   "execution_count": 9,
   "id": "590e5750",
   "metadata": {},
   "outputs": [
    {
     "data": {
      "text/plain": [
       "(923679, 63, 1)"
      ]
     },
     "execution_count": 9,
     "metadata": {},
     "output_type": "execute_result"
    }
   ],
   "source": [
    "X_train.shape"
   ]
  },
  {
   "cell_type": "code",
   "execution_count": null,
   "id": "81a43be5",
   "metadata": {},
   "outputs": [],
   "source": []
  },
  {
   "cell_type": "code",
   "execution_count": null,
   "id": "81f76269",
   "metadata": {},
   "outputs": [],
   "source": []
  },
  {
   "cell_type": "code",
   "execution_count": null,
   "id": "950798f7",
   "metadata": {},
   "outputs": [],
   "source": []
  },
  {
   "cell_type": "code",
   "execution_count": 10,
   "id": "f033011f",
   "metadata": {},
   "outputs": [
    {
     "name": "stdout",
     "output_type": "stream",
     "text": [
      "Model: \"sequential\"\n",
      "_________________________________________________________________\n",
      " Layer (type)                Output Shape              Param #   \n",
      "=================================================================\n",
      " lstm (LSTM)                 (None, 63, 128)           66560     \n",
      "                                                                 \n",
      " dropout (Dropout)           (None, 63, 128)           0         \n",
      "                                                                 \n",
      " batch_normalization (BatchN  (None, 63, 128)          512       \n",
      " ormalization)                                                   \n",
      "                                                                 \n",
      " lstm_1 (LSTM)               (None, 63, 128)           131584    \n",
      "                                                                 \n",
      " dropout_1 (Dropout)         (None, 63, 128)           0         \n",
      "                                                                 \n",
      " batch_normalization_1 (Batc  (None, 63, 128)          512       \n",
      " hNormalization)                                                 \n",
      "                                                                 \n",
      " lstm_2 (LSTM)               (None, 128)               131584    \n",
      "                                                                 \n",
      " dropout_2 (Dropout)         (None, 128)               0         \n",
      "                                                                 \n",
      " batch_normalization_2 (Batc  (None, 128)              512       \n",
      " hNormalization)                                                 \n",
      "                                                                 \n",
      " dense (Dense)               (None, 32)                4128      \n",
      "                                                                 \n",
      " dropout_3 (Dropout)         (None, 32)                0         \n",
      "                                                                 \n",
      " dense_1 (Dense)             (None, 2)                 66        \n",
      "                                                                 \n",
      "=================================================================\n",
      "Total params: 335,458\n",
      "Trainable params: 334,690\n",
      "Non-trainable params: 768\n",
      "_________________________________________________________________\n"
     ]
    }
   ],
   "source": [
    "model = Sequential()\n",
    "# LSTM LAYER IS ADDED TO MODEL WITH 128 CELLS IN IT\n",
    "model.add(LSTM(128, input_shape=(X_train.shape[1],X_train.shape[2]), activation='tanh', return_sequences=True))\n",
    "model.add(Dropout(0.2))  # 20% DROPOUT ADDED FOR REGULARIZATION\n",
    "model.add(BatchNormalization())\n",
    "model.add(LSTM(128, input_shape=(X_train.shape[1],X_train.shape[2]), activation='tanh', return_sequences=True))   # ADD ANOTHER LAYER\n",
    "model.add(Dropout(0.1))\n",
    "model.add(BatchNormalization())\n",
    "model.add(LSTM(128, input_shape=(X_train.shape[1],X_train.shape[2]), activation='tanh', return_sequences=False))\n",
    "model.add(Dropout(0.2))\n",
    "model.add(BatchNormalization())\n",
    "model.add(Dense(32, activation='relu'))  # ADD A DENSE LAYER\n",
    "model.add(Dropout(0.2))\n",
    "model.add(Dense(2, activation='softmax'))  # FINAL CLASSIFICATION LAYER WITH 2 CLASSES AND SOFTMAX\n",
    "# ---------------------------------------------------------------------------------------------------\n",
    "# OPTIMIZER SETTINGS\n",
    "opt = tf.keras.optimizers.Adam(learning_rate=0.001, decay=1e-6)\n",
    "\n",
    "# MODEL COMPILE\n",
    "model.compile(loss='sparse_categorical_crossentropy', optimizer=opt, metrics=['accuracy'])\n",
    "\n",
    "model.summary()"
   ]
  },
  {
   "cell_type": "code",
   "execution_count": 11,
   "id": "c217f783",
   "metadata": {},
   "outputs": [
    {
     "name": "stdout",
     "output_type": "stream",
     "text": [
      "Epoch 1/10\n",
      "18474/18474 [==============================] - 2250s 121ms/step - loss: 0.4657 - accuracy: 0.8020 - val_loss: 0.4359 - val_accuracy: 0.8076\n",
      "Epoch 2/10\n",
      "18474/18474 [==============================] - 2205s 119ms/step - loss: 0.3758 - accuracy: 0.8367 - val_loss: 0.2844 - val_accuracy: 0.8785\n",
      "Epoch 3/10\n",
      "18474/18474 [==============================] - 2247s 122ms/step - loss: 0.2560 - accuracy: 0.8902 - val_loss: 0.1836 - val_accuracy: 0.9176\n",
      "Epoch 4/10\n",
      "18474/18474 [==============================] - 2273s 123ms/step - loss: 0.1809 - accuracy: 0.9219 - val_loss: 0.1370 - val_accuracy: 0.9386\n",
      "Epoch 5/10\n",
      "18474/18474 [==============================] - 2167s 117ms/step - loss: 0.1477 - accuracy: 0.9360 - val_loss: 0.1142 - val_accuracy: 0.9476\n",
      "Epoch 6/10\n",
      "18474/18474 [==============================] - 2184s 118ms/step - loss: 0.1315 - accuracy: 0.9428 - val_loss: 0.1091 - val_accuracy: 0.9513\n",
      "Epoch 7/10\n",
      "18474/18474 [==============================] - 2133s 115ms/step - loss: 0.1213 - accuracy: 0.9463 - val_loss: 0.1002 - val_accuracy: 0.9527\n",
      "Epoch 8/10\n",
      "18474/18474 [==============================] - 2127s 115ms/step - loss: 0.1160 - accuracy: 0.9479 - val_loss: 0.1056 - val_accuracy: 0.9518\n",
      "Epoch 9/10\n",
      "18474/18474 [==============================] - 2157s 117ms/step - loss: 0.1113 - accuracy: 0.9497 - val_loss: 0.0960 - val_accuracy: 0.9535\n",
      "Epoch 10/10\n",
      "18474/18474 [==============================] - 2141s 116ms/step - loss: 0.1077 - accuracy: 0.9510 - val_loss: 0.0910 - val_accuracy: 0.9562\n"
     ]
    }
   ],
   "source": [
    "# RUN THE MODEL\n",
    "history = model.fit(X_train, Y_train, epochs=10, batch_size=50, verbose=1,\n",
    "                    validation_data=(X_test, Y_test))"
   ]
  },
  {
   "cell_type": "code",
   "execution_count": null,
   "id": "06822acf",
   "metadata": {},
   "outputs": [],
   "source": [
    " "
   ]
  },
  {
   "cell_type": "code",
   "execution_count": null,
   "id": "99384960",
   "metadata": {},
   "outputs": [],
   "source": []
  },
  {
   "cell_type": "code",
   "execution_count": null,
   "id": "6ae30d4d",
   "metadata": {},
   "outputs": [],
   "source": []
  },
  {
   "cell_type": "code",
   "execution_count": null,
   "id": "7df9f058",
   "metadata": {},
   "outputs": [],
   "source": []
  },
  {
   "cell_type": "code",
   "execution_count": null,
   "id": "51ea37b5",
   "metadata": {},
   "outputs": [],
   "source": []
  },
  {
   "cell_type": "code",
   "execution_count": null,
   "id": "da1b6f04",
   "metadata": {},
   "outputs": [],
   "source": [
    "from sklearn.preprocessing import StandardScaler, MinMaxScaler\n",
    "scaler = MinMaxScaler(feature_range=(0,1))\n",
    "XX = np.reshape(X_train, (X_train.shape[0]*X_train.shape[1]))\n",
    "scaler.fit(np.log(XX + 1))\n",
    "XX = scaler.transform(np.log(XX+1))\n",
    "X_train = np.reshape(XX, (X_train.shape[0], X_train.shape[1]))\n",
    "XX_test = np.reshape(X_test, (X_test.shape[0]*X_test.shape[1]))\n",
    "XX_test = scaler.transform(np.log(XX_test+1))\n",
    "X_test = np.reshape(XX_test, (X_test.shape[0], X_test.shape[1]))\n"
   ]
  },
  {
   "cell_type": "code",
   "execution_count": null,
   "id": "ce79b573",
   "metadata": {},
   "outputs": [],
   "source": []
  },
  {
   "cell_type": "code",
   "execution_count": null,
   "id": "e9a869de",
   "metadata": {},
   "outputs": [],
   "source": []
  },
  {
   "cell_type": "code",
   "execution_count": null,
   "id": "8c6b3258",
   "metadata": {},
   "outputs": [],
   "source": []
  },
  {
   "cell_type": "code",
   "execution_count": null,
   "id": "5a3a52ee",
   "metadata": {},
   "outputs": [],
   "source": []
  },
  {
   "cell_type": "code",
   "execution_count": null,
   "id": "feac2ae4",
   "metadata": {},
   "outputs": [],
   "source": []
  },
  {
   "cell_type": "code",
   "execution_count": null,
   "id": "3ef2b601",
   "metadata": {},
   "outputs": [],
   "source": []
  },
  {
   "cell_type": "code",
   "execution_count": null,
   "id": "841e8621",
   "metadata": {},
   "outputs": [],
   "source": [
    "num_rows, num_cols = X_train.shape\n",
    "\n",
    "X_train = tf.reshape(X_train, [num_rows, num_cols])\n",
    "Y_train = tf.reshape(Y_train, [num_rows, 1])\n",
    "\n",
    "batch_size = 100\n",
    "num_epochs = 5\n",
    "\n",
    "model = tf.keras.models.Sequential([tf.keras.layers.LSTM(num_cols,\n",
    "input_shape=(923679, 63),\n",
    "activation = tf.nn.tanh,\n",
    "return_sequences=True),\n",
    "tf.keras.layers.LSTM(10, activation = tf.nn.tanh),\n",
    "tf.keras.layers.Dense(1, activation = tf.nn.relu)])\n",
    "\n",
    "model.compile(optimizer='adam', loss='mse', metrics=[tf.keras.metrics.RootMeanSquaredError()])\n",
    "\n",
    "model.fit(X_train, Y_train, epochs=num_epochs, batch_size=batch_size, validation_data=(X_test, Y_test))\n"
   ]
  },
  {
   "cell_type": "code",
   "execution_count": null,
   "id": "41e1946c",
   "metadata": {},
   "outputs": [],
   "source": []
  },
  {
   "cell_type": "code",
   "execution_count": null,
   "id": "bb8c3bbb",
   "metadata": {},
   "outputs": [],
   "source": []
  },
  {
   "cell_type": "code",
   "execution_count": null,
   "id": "6d30b863",
   "metadata": {},
   "outputs": [],
   "source": []
  },
  {
   "cell_type": "code",
   "execution_count": null,
   "id": "567e611e",
   "metadata": {},
   "outputs": [],
   "source": []
  },
  {
   "cell_type": "code",
   "execution_count": null,
   "id": "03c489e8",
   "metadata": {},
   "outputs": [],
   "source": [
    "import numpy as np "
   ]
  },
  {
   "cell_type": "code",
   "execution_count": null,
   "id": "912f0f66",
   "metadata": {},
   "outputs": [],
   "source": [
    "model = Sequential()\n",
    "model.add(LSTM(50, activation='relu', return_sequences=True, input_shape=(1, 1)))\n",
    "model.add(LSTM(50, activation='relu'))\n",
    "model.add(Dense(1))\n",
    "model.compile(optimizer='adam', loss='mse')\n",
    "print(model.summary())"
   ]
  },
  {
   "cell_type": "code",
   "execution_count": null,
   "id": "25f8730c",
   "metadata": {},
   "outputs": [],
   "source": [
    "model = tf.keras.models.Sequential([tf.keras.layers.LSTM(63,input_shape=(1,63),\n",
    "activation = tf.nn.tanh,\n",
    "return_sequences=True),\n",
    "tf.keras.layers.LSTM(10, activation = tf.nn.tanh),\n",
    "tf.keras.layers.Dense(1, activation = tf.nn.relu)])\n",
    "model.compile(optimizer='adam', loss='sparse_categorical_crossentropy', metrics=['accuracy'])\n",
    "print(model.summary())"
   ]
  },
  {
   "cell_type": "code",
   "execution_count": null,
   "id": "8a7c49b7",
   "metadata": {},
   "outputs": [],
   "source": [
    "model.fit(X_train,Y_train,epochs=50,batch_size=50, verbose=2, validation_data = (X_test, Y_test))"
   ]
  },
  {
   "cell_type": "code",
   "execution_count": null,
   "id": "589244e9",
   "metadata": {},
   "outputs": [],
   "source": []
  },
  {
   "cell_type": "code",
   "execution_count": null,
   "id": "e64f91e2",
   "metadata": {},
   "outputs": [],
   "source": [
    "model = tf.keras.models.Sequential()\n",
    "model.add(tf.keras.layers.Conv1D(8,kernel_size = 3, strides = 1,padding = 'valid', activation = 'relu',input_shape = (X_train.shape[0],X_train.shape[1])))\n",
    "model.add(tf.keras.layers.Conv1D(16,kernel_size = 3, strides = 1,padding = 'valid', activation = 'relu'))\n",
    "model.add(tf.keras.layers.MaxPooling1D(2))\n",
    "model.add(tf.keras.layers.Dropout(0.2))\n",
    "model.add(tf.keras.layers.Conv1D(32,kernel_size = 3, strides = 1,padding = 'valid', activation = 'relu'))\n",
    "model.add(tf.keras.layers.Conv1D(64,kernel_size = 3, strides = 1,padding = 'valid', activation = 'relu'))\n",
    "model.add(tf.keras.layers.MaxPooling1D(2))\n",
    "model.add(tf.keras.layers.Dropout(0.2))\n",
    "model.add(tf.keras.layers.Conv1D(128,kernel_size = 3, strides = 1,padding = 'valid', activation = 'relu'))\n",
    "model.add(tf.keras.layers.Conv1D(256,kernel_size = 3, strides = 1,padding = 'valid', activation = 'relu'))\n",
    "model.add(tf.keras.layers.MaxPooling1D(2))\n",
    "model.add(tf.keras.layers.Dropout(0.2))\n",
    "model.add(tf.keras.layers.Flatten())\n",
    "model.add(tf.keras.layers.Dense(512,activation = 'relu'))\n",
    "model.add(tf.keras.layers.Dense(128,activation = 'relu'))\n",
    "model.add(tf.keras.layers.Dense(32,activation = 'relu'))\n",
    "model.add(tf.keras.layers.Dense(3, activation = 'softmax'))"
   ]
  },
  {
   "cell_type": "code",
   "execution_count": null,
   "id": "0f7608f8",
   "metadata": {},
   "outputs": [],
   "source": []
  },
  {
   "cell_type": "code",
   "execution_count": null,
   "id": "ba394584",
   "metadata": {},
   "outputs": [],
   "source": []
  },
  {
   "cell_type": "code",
   "execution_count": null,
   "id": "8a0f973b",
   "metadata": {},
   "outputs": [],
   "source": []
  },
  {
   "cell_type": "code",
   "execution_count": null,
   "id": "f8ea301d",
   "metadata": {},
   "outputs": [],
   "source": []
  },
  {
   "cell_type": "code",
   "execution_count": null,
   "id": "c3928cdc",
   "metadata": {},
   "outputs": [],
   "source": [
    "model=Sequential()\n",
    "model.add(LSTM(units=100,return_sequences=True,input_shape=(X_train.shape[1],1)))\n",
    "model.add(Dropout(0.2))\n",
    "model.add(LSTM(units=100,return_sequences=True))\n",
    "model.add(Dropout(0.2))\n",
    "model.add(LSTM(units=100,return_sequences=True))\n",
    "model.add(Dropout(0.2))\n",
    "model.add(LSTM(units=100,return_sequences=False))\n",
    "model.add(Dropout(0.2))\n",
    "model.add(Dense(1,activation='sigmoid'))\n",
    "model.compile(optimizer='adam', loss='sparse_categorical_crossentropy', metrics=['accuracy'])\n",
    "print(model.summary())"
   ]
  },
  {
   "cell_type": "code",
   "execution_count": null,
   "id": "e51f606c",
   "metadata": {},
   "outputs": [],
   "source": []
  },
  {
   "cell_type": "code",
   "execution_count": null,
   "id": "d617c8e0",
   "metadata": {},
   "outputs": [],
   "source": []
  },
  {
   "cell_type": "code",
   "execution_count": null,
   "id": "df7f10fd",
   "metadata": {},
   "outputs": [],
   "source": []
  },
  {
   "cell_type": "code",
   "execution_count": null,
   "id": "bea29a86",
   "metadata": {},
   "outputs": [],
   "source": []
  },
  {
   "cell_type": "code",
   "execution_count": null,
   "id": "dd034bea",
   "metadata": {},
   "outputs": [],
   "source": [
    "model.fit(X_train,Y_train,epochs=50,batch_size=50, verbose=2, validation_data = (X_test, Y_test))"
   ]
  },
  {
   "cell_type": "code",
   "execution_count": null,
   "id": "518172c4",
   "metadata": {},
   "outputs": [],
   "source": []
  },
  {
   "cell_type": "code",
   "execution_count": null,
   "id": "e2534916",
   "metadata": {},
   "outputs": [],
   "source": []
  },
  {
   "cell_type": "code",
   "execution_count": null,
   "id": "4c16fb46",
   "metadata": {},
   "outputs": [],
   "source": []
  },
  {
   "cell_type": "code",
   "execution_count": null,
   "id": "d01b5ea5",
   "metadata": {},
   "outputs": [],
   "source": [
    "X_train.shape"
   ]
  },
  {
   "cell_type": "code",
   "execution_count": null,
   "id": "99b5b023",
   "metadata": {},
   "outputs": [],
   "source": []
  },
  {
   "cell_type": "code",
   "execution_count": null,
   "id": "9e90a265",
   "metadata": {},
   "outputs": [],
   "source": [
    "num_rows, num_cols = x_train.shape\n",
    "\n",
    "x_train = tf.reshape(x_train, [num_rows, num_cols])\n",
    "y_train = tf.reshape(y_train, [num_rows, 1])\n",
    "\n",
    "batch_size = 100\n",
    "num_epochs = 5\n",
    "\n",
    "model = tf.keras.models.Sequential([tf.keras.layers.LSTM(num_cols,\n",
    "input_shape=(num_rows,num_cols),\n",
    "activation = tf.nn.tanh,\n",
    "return_sequences=True),\n",
    "tf.keras.layers.LSTM(10, activation = tf.nn.tanh),\n",
    "tf.keras.layers.Dense(1, activation = tf.nn.relu)])\n",
    "\n",
    "model.compile(optimizer='adam', loss='mse', metrics=[tf.keras.metrics.RootMeanSquaredError()])\n",
    "\n",
    "model.fit(x_train, y_train, epochs=num_epochs, batch_size=batch_size, validation_data=(x_test, y_test))\n"
   ]
  },
  {
   "cell_type": "code",
   "execution_count": null,
   "id": "8d44e035",
   "metadata": {},
   "outputs": [],
   "source": [
    "mport pandas as pd\n",
    "import numpy as np\n",
    "import tensorflow as tf\n",
    "import sklearn\n",
    "import keras_tuner as kt\n",
    "\n",
    "from tensorflow import keras\n",
    "from sklearn.preprocessing import MinMaxScaler\n",
    "from sklearn.model_selection import train_test_split\n",
    "from tensorflow.keras import layers\n",
    "\n",
    "df_training_data = pd.read_csv (r'G:\\Research\\Oils\\REQUESTS\\US_data\\ProdAbo_AllHeaders_csv.csv')\n",
    "\n",
    "x_total = df_training_data.loc[:,['Lat_X1','Lon_X2','Month_X3',\n",
    "'Well_length_X5','Density_X7','Month_from_start_X8']]\n",
    "\n",
    "y_total = df_training_data.loc[:,'Liquids_Y1']\n",
    "\n",
    "scaler = MinMaxScaler()\n",
    "x_total = scaler.fit_transform(x_total)\n",
    "\n",
    "x_total = np.array(x_total).astype(np.float32)\n",
    "y_total = np.array(y_total).astype(np.float32)\n",
    "\n",
    "x_train, x_test, y_train, y_test = train_test_split(x_total, y_total, test_size = 0.3, random_state = 0)\n",
    "\n",
    "num_rows, num_cols = x_train.shape\n",
    "\n",
    "x_train = tf.reshape(x_train, [num_rows, num_cols])\n",
    "y_train = tf.reshape(y_train, [num_rows, 1])\n",
    "\n",
    "batch_size = 100\n",
    "num_epochs = 5\n",
    "\n",
    "model = tf.keras.models.Sequential([tf.keras.layers.LSTM(num_cols,\n",
    "input_shape=(num_rows,num_cols),\n",
    "activation = tf.nn.tanh,\n",
    "return_sequences=True),\n",
    "tf.keras.layers.LSTM(10, activation = tf.nn.tanh),\n",
    "tf.keras.layers.Dense(1, activation = tf.nn.relu)])\n",
    "\n",
    "model.compile(optimizer='adam', loss='mse', metrics=[tf.keras.metrics.RootMeanSquaredError()])\n",
    "\n",
    "model.fit(x_train, y_train, epochs=num_epochs, batch_size=batch_size, validation_data=(x_test, y_test))"
   ]
  },
  {
   "cell_type": "code",
   "execution_count": null,
   "id": "e5b6d917",
   "metadata": {},
   "outputs": [],
   "source": []
  },
  {
   "cell_type": "code",
   "execution_count": null,
   "id": "19a61cdf",
   "metadata": {},
   "outputs": [],
   "source": []
  },
  {
   "cell_type": "code",
   "execution_count": null,
   "id": "1443b9db",
   "metadata": {},
   "outputs": [],
   "source": []
  },
  {
   "cell_type": "code",
   "execution_count": null,
   "id": "d46e5ab4",
   "metadata": {},
   "outputs": [],
   "source": []
  },
  {
   "cell_type": "code",
   "execution_count": null,
   "id": "47cbd49a",
   "metadata": {},
   "outputs": [],
   "source": []
  },
  {
   "cell_type": "code",
   "execution_count": null,
   "id": "76645854",
   "metadata": {},
   "outputs": [],
   "source": []
  },
  {
   "cell_type": "code",
   "execution_count": null,
   "id": "3611ca2d",
   "metadata": {},
   "outputs": [],
   "source": []
  },
  {
   "cell_type": "code",
   "execution_count": null,
   "id": "43d791d8",
   "metadata": {},
   "outputs": [],
   "source": []
  },
  {
   "cell_type": "code",
   "execution_count": null,
   "id": "0fc9e527",
   "metadata": {},
   "outputs": [],
   "source": []
  },
  {
   "cell_type": "code",
   "execution_count": null,
   "id": "e05013ed",
   "metadata": {},
   "outputs": [],
   "source": []
  },
  {
   "cell_type": "code",
   "execution_count": null,
   "id": "61ae012d",
   "metadata": {},
   "outputs": [],
   "source": []
  },
  {
   "cell_type": "code",
   "execution_count": null,
   "id": "254f54ad",
   "metadata": {},
   "outputs": [],
   "source": []
  },
  {
   "cell_type": "code",
   "execution_count": null,
   "id": "5e3b1faf",
   "metadata": {},
   "outputs": [],
   "source": []
  },
  {
   "cell_type": "code",
   "execution_count": null,
   "id": "3372a0b6",
   "metadata": {},
   "outputs": [],
   "source": [
    "model_important = Sequential()\n",
    "model_important.add(Dense(16, input_dim=63, activation='relu')) \n",
    "model_important.add(Dropout(0.2))\n",
    "model.add(Dense(1,activation='sigmoid'))\n",
    "model_important.compile(loss='binary_crossentropy', optimizer='adam', metrics=['accuracy'])\n",
    "print(model_important.summary())"
   ]
  },
  {
   "cell_type": "code",
   "execution_count": null,
   "id": "221a4c58",
   "metadata": {},
   "outputs": [],
   "source": [
    "model.fit(X_train,Y_train,epochs=1000,batch_size=50, verbose=2, validation_data = (X_test, Y_test))"
   ]
  },
  {
   "cell_type": "code",
   "execution_count": null,
   "id": "37cc5108",
   "metadata": {},
   "outputs": [],
   "source": []
  },
  {
   "cell_type": "code",
   "execution_count": null,
   "id": "9c57374c",
   "metadata": {},
   "outputs": [],
   "source": [
    "\n",
    "##train_dane_rnn = np.reshape(np.array(train_dane), (train_dane.shape[0], train_dane.shape[1], 1))\n",
    "#test_dane_rnn = np.reshape(np.array(test_dane), (test_dane.shape[0], test_dane.shape[1], 1))"
   ]
  },
  {
   "cell_type": "code",
   "execution_count": null,
   "id": "32182ebb",
   "metadata": {},
   "outputs": [],
   "source": [
    "#import pandas as pd\n",
    "import numpy as np\n",
    "import tensorflow as tf\n",
    "import sklearn\n",
    "import keras_tuner as kt\n",
    "\n",
    "from tensorflow import keras\n",
    "from sklearn.preprocessing import MinMaxScaler\n",
    "from sklearn.model_selection import train_test_split\n",
    "from tensorflow.keras import layers\n",
    "\n",
    "df_training_data = pd.read_csv (r'G:\\Research\\Oils\\REQUESTS\\US_data\\ProdAbo_AllHeaders_csv.csv')\n",
    "\n",
    "x_total = df_training_data.loc[:,['Lat_X1','Lon_X2','Month_X3',\n",
    "'Well_length_X5','Density_X7','Month_from_start_X8']]\n",
    "\n",
    "y_total = df_training_data.loc[:,'Liquids_Y1']\n",
    "\n",
    "scaler = MinMaxScaler()\n",
    "x_total = scaler.fit_transform(x_total)\n",
    "\n",
    "x_total = np.array(x_total).astype(np.float32)\n",
    "y_total = np.array(y_total).astype(np.float32)\n",
    "\n",
    "x_train, x_test, y_train, y_test = train_test_split(x_total, y_total, test_size = 0.3, random_state = 0)\n",
    "\n",
    "num_rows, num_cols = x_train.shape\n",
    "\n",
    "x_train = tf.reshape(x_train, [num_rows, num_cols])\n",
    "y_train = tf.reshape(y_train, [num_rows, 1])\n",
    "\n",
    "batch_size = 100\n",
    "num_epochs = 5\n",
    "\n",
    "model = tf.keras.models.Sequential([tf.keras.layers.LSTM(num_cols,\n",
    "input_shape=(num_rows,num_cols),\n",
    "activation = tf.nn.tanh,\n",
    "return_sequences=True),\n",
    "tf.keras.layers.LSTM(10, activation = tf.nn.tanh),\n",
    "tf.keras.layers.Dense(1, activation = tf.nn.relu)])\n",
    "\n",
    "model.compile(optimizer='adam', loss='mse', metrics=[tf.keras.metrics.RootMeanSquaredError()])\n",
    "\n",
    "model.fit(x_train, y_train, epochs=num_epochs, batch_size=batch_size, validation_data=(x_test, y_test))"
   ]
  },
  {
   "cell_type": "code",
   "execution_count": null,
   "id": "f2ef5435",
   "metadata": {},
   "outputs": [],
   "source": []
  },
  {
   "cell_type": "code",
   "execution_count": null,
   "id": "37e2046a",
   "metadata": {},
   "outputs": [],
   "source": []
  },
  {
   "cell_type": "code",
   "execution_count": null,
   "id": "f9112673",
   "metadata": {},
   "outputs": [],
   "source": []
  },
  {
   "cell_type": "code",
   "execution_count": null,
   "id": "12d9865c",
   "metadata": {},
   "outputs": [],
   "source": []
  },
  {
   "cell_type": "code",
   "execution_count": null,
   "id": "3ea5fe8b",
   "metadata": {},
   "outputs": [],
   "source": []
  },
  {
   "cell_type": "code",
   "execution_count": null,
   "id": "2bf4207b",
   "metadata": {},
   "outputs": [],
   "source": []
  },
  {
   "cell_type": "code",
   "execution_count": null,
   "id": "60e1b16f",
   "metadata": {},
   "outputs": [],
   "source": [
    "from keras.models import Sequential \n",
    "from keras.layers import Dense \n",
    "from keras.layers import LSTM \n",
    "from keras.layers import Dropout "
   ]
  },
  {
   "cell_type": "code",
   "execution_count": null,
   "id": "c34b8019",
   "metadata": {},
   "outputs": [],
   "source": [
    "model=Sequential()\n",
    "model.add(LSTM(units=100,return_sequences=True,input_shape=(X_train.shape[1],X_train.shape[2])))\n",
    "model.add(Dropout(0.2))\n",
    "model.add(LSTM(units=100,return_sequences=True))\n",
    "model.add(Dropout(0.2))\n",
    "model.add(LSTM(units=100,return_sequences=True))\n",
    "model.add(Dropout(0.2))\n",
    "model.add(LSTM(units=100,return_sequences=False))\n",
    "model.add(Dropout(0.2))\n",
    "model.add(Flatten())\n",
    "model.add(Dense(1,activation='sigmoid'))\n",
    "model.compile(optimizer='adam', loss='sparse_categorical_crossentropy', metrics=['accuracy'])"
   ]
  },
  {
   "cell_type": "code",
   "execution_count": null,
   "id": "cf523f5a",
   "metadata": {},
   "outputs": [],
   "source": [
    "model.summary()"
   ]
  },
  {
   "cell_type": "code",
   "execution_count": null,
   "id": "7d468fae",
   "metadata": {},
   "outputs": [],
   "source": [
    "model.fit(X_train,Y_train,epochs=1000,batch_size=50, verbose=1, validation_data = (X_test, Y_test))"
   ]
  },
  {
   "cell_type": "code",
   "execution_count": null,
   "id": "f414fa89",
   "metadata": {},
   "outputs": [],
   "source": []
  },
  {
   "cell_type": "code",
   "execution_count": null,
   "id": "2d298049",
   "metadata": {},
   "outputs": [],
   "source": []
  },
  {
   "cell_type": "code",
   "execution_count": null,
   "id": "cfeade5c",
   "metadata": {},
   "outputs": [],
   "source": []
  },
  {
   "cell_type": "code",
   "execution_count": null,
   "id": "eefcda54",
   "metadata": {},
   "outputs": [],
   "source": [
    "x_train = np.expand_dims(x_train, axis=-1)"
   ]
  },
  {
   "cell_type": "code",
   "execution_count": null,
   "id": "1d25f219",
   "metadata": {},
   "outputs": [],
   "source": []
  },
  {
   "cell_type": "code",
   "execution_count": null,
   "id": "8679f225",
   "metadata": {},
   "outputs": [],
   "source": []
  },
  {
   "cell_type": "code",
   "execution_count": null,
   "id": "0e4177bd",
   "metadata": {},
   "outputs": [],
   "source": []
  },
  {
   "cell_type": "code",
   "execution_count": null,
   "id": "c1e47334",
   "metadata": {},
   "outputs": [],
   "source": []
  },
  {
   "cell_type": "code",
   "execution_count": null,
   "id": "956480a4",
   "metadata": {},
   "outputs": [],
   "source": []
  },
  {
   "cell_type": "code",
   "execution_count": null,
   "id": "5b05d4c3",
   "metadata": {},
   "outputs": [],
   "source": [
    "import tensorflow as tf\n",
    "import numpy as np\n",
    "\n",
    "x_train = np.random.random((17755,500,12))\n",
    "x_train = np.expand_dims(x_train, axis=-1)\n",
    "y_train = np.random.random((17755,15))\n",
    "model = tf.keras.Sequential()\n",
    "model.add(tf.keras.layers.Conv2D(32,3,padding=\"same\", activation=\"relu\", input_shape=(500, 12, 1)))\n",
    "model.add(tf.keras.layers.MaxPool2D())\n",
    "\n",
    "model.add(tf.keras.layers.Conv2D(32, 3, padding=\"same\", activation=\"relu\"))\n",
    "model.add(tf.keras.layers.MaxPool2D())\n",
    "\n",
    "model.add(tf.keras.layers.Conv2D(64, 3, padding=\"same\", activation=\"relu\"))\n",
    "model.add(tf.keras.layers.MaxPool2D())\n",
    "model.add(tf.keras.layers.Dropout(0.4))\n",
    "\n",
    "model.add(tf.keras.layers.Flatten())\n",
    "model.add(tf.keras.layers.Dense(128,activation=\"relu\"))\n",
    "model.add(tf.keras.layers.Dense(15, activation=\"sigmoid\"))\n",
    "\n",
    "model.compile(optimizer ='adam', loss='categorical_crossentropy', metrics = ['Accuracy'])\n",
    "\n",
    "history = model.fit(x_train, y_train, epochs=5)"
   ]
  },
  {
   "cell_type": "code",
   "execution_count": null,
   "id": "8209c6fe",
   "metadata": {},
   "outputs": [],
   "source": []
  },
  {
   "cell_type": "code",
   "execution_count": null,
   "id": "10117cf3",
   "metadata": {},
   "outputs": [],
   "source": []
  },
  {
   "cell_type": "code",
   "execution_count": null,
   "id": "d4691682",
   "metadata": {},
   "outputs": [],
   "source": []
  },
  {
   "cell_type": "code",
   "execution_count": null,
   "id": "0c06154f",
   "metadata": {},
   "outputs": [],
   "source": []
  },
  {
   "cell_type": "code",
   "execution_count": null,
   "id": "6d0c0cda",
   "metadata": {},
   "outputs": [],
   "source": []
  },
  {
   "cell_type": "code",
   "execution_count": null,
   "id": "f9b18e8c",
   "metadata": {},
   "outputs": [],
   "source": []
  },
  {
   "cell_type": "code",
   "execution_count": null,
   "id": "bcba27cf",
   "metadata": {},
   "outputs": [],
   "source": []
  },
  {
   "cell_type": "code",
   "execution_count": null,
   "id": "99cf159d",
   "metadata": {},
   "outputs": [],
   "source": []
  },
  {
   "cell_type": "code",
   "execution_count": null,
   "id": "70bf5882",
   "metadata": {},
   "outputs": [],
   "source": []
  },
  {
   "cell_type": "code",
   "execution_count": null,
   "id": "2cae511d",
   "metadata": {},
   "outputs": [],
   "source": []
  },
  {
   "cell_type": "code",
   "execution_count": null,
   "id": "1a925e91",
   "metadata": {},
   "outputs": [],
   "source": []
  },
  {
   "cell_type": "code",
   "execution_count": null,
   "id": "f0d09a03",
   "metadata": {},
   "outputs": [],
   "source": []
  },
  {
   "cell_type": "code",
   "execution_count": null,
   "id": "dc85f8b5",
   "metadata": {},
   "outputs": [],
   "source": []
  },
  {
   "cell_type": "code",
   "execution_count": null,
   "id": "a9731418",
   "metadata": {},
   "outputs": [],
   "source": []
  },
  {
   "cell_type": "code",
   "execution_count": null,
   "id": "18d8fdbc",
   "metadata": {},
   "outputs": [],
   "source": []
  },
  {
   "cell_type": "code",
   "execution_count": null,
   "id": "a28c0706",
   "metadata": {},
   "outputs": [],
   "source": [
    "data4=np.array(data4, dtype=float)"
   ]
  },
  {
   "cell_type": "code",
   "execution_count": null,
   "id": "cc4d295e",
   "metadata": {},
   "outputs": [],
   "source": [
    "early_stopping = tf.keras.callbacks.EarlyStopping(\n",
    "    monitor='val_loss', \n",
    "    verbose=1,\n",
    "    patience=10,\n",
    "    mode='min',\n",
    "    restore_best_weights=True)\n",
    "\n",
    "# METRICS = [\n",
    "#       keras.metrics.TruePositives(name='tp'),\n",
    "#       keras.metrics.FalsePositives(name='fp'),\n",
    "#       keras.metrics.TrueNegatives(name='tn'),\n",
    "#       keras.metrics.FalseNegatives(name='fn'), \n",
    "#       keras.metrics.BinaryAccuracy(name='accuracy'),\n",
    "#       keras.metrics.Precision(name='precision'),\n",
    "#       keras.metrics.Recall(name='recall'),\n",
    "#       keras.metrics.AUC(name='auc'),\n",
    "# ]\n",
    "\n",
    "METRICS = [\n",
    "    #keras.metrics.TruePositives(name='tp'),\n",
    "    keras.metrics.AUC(name='accuracy'),\n",
    "    keras.metrics.Recall(name='recall'),\n",
    "    keras.metrics.Precision(name='precision'),\n",
    "    keras.metrics.AUC(name='auc')\n",
    "]\n",
    "\n",
    "\n",
    "n_steps = X_train.shape[0]\n",
    "n_features = X_train.shape[1]\n"
   ]
  },
  {
   "cell_type": "code",
   "execution_count": null,
   "id": "312379dc",
   "metadata": {},
   "outputs": [],
   "source": []
  },
  {
   "cell_type": "code",
   "execution_count": null,
   "id": "b402119d",
   "metadata": {},
   "outputs": [],
   "source": [
    "from keras.models import Sequential\n",
    "from keras.layers import LSTM, Dense, Dropout, Masking, Embedding\n",
    "\n",
    "model = Sequential()\n",
    "\n",
    "# Embedding layer\n",
    "model.add(\n",
    "    Embedding(input_dim=num_words,\n",
    "              input_length = training_length,\n",
    "              output_dim=100,\n",
    "              weights=[embedding_matrix],\n",
    "              trainable=False,\n",
    "              mask_zero=True))\n",
    "\n",
    "# Masking layer for pre-trained embeddings\n",
    "model.add(Masking(mask_value=0.0))\n",
    "\n",
    "# Recurrent layer\n",
    "model.add(LSTM(64, return_sequences=False, \n",
    "               dropout=0.1, recurrent_dropout=0.1))\n",
    "\n",
    "# Fully connected layer\n",
    "model.add(Dense(64, activation='relu'))\n",
    "\n",
    "# Dropout for regularization\n",
    "model.add(Dropout(0.5))\n",
    "\n",
    "# Output layer\n",
    "model.add(Dense(num_words, activation='softmax'))\n",
    "\n",
    "# Compile the model\n",
    "model.compile(\n",
    "    optimizer='adam', loss='sparse_categorical_crossentropy', metrics=['accuracy'])"
   ]
  },
  {
   "cell_type": "code",
   "execution_count": null,
   "id": "03ec4c51",
   "metadata": {},
   "outputs": [],
   "source": [
    "tf.keras.backend.clear_session()\n",
    "tf.compat.v1.reset_default_graph()\n",
    "\n",
    "from tensorflow.keras import initializers\n",
    "\n",
    "model = Sequential()\n",
    "model.add(tf.keras.layers.Masking(mask_value=0.,\n",
    "                                   input_shape=(n_steps, n_features))) # skip the weeks without data\n",
    "model.add(LSTM(300, return_sequences=False, \n",
    "               dropout=0.1, recurrent_dropout=0.1))\n",
    "\n",
    "model.add(Dense(1,activation='sigmoid'))\n",
    "model.compile(loss = 'binary_crossentropy', optimizer=keras.optimizers.Adam(lr=0.01),metrics = METRICS)\n",
    "print(model.summary())\n"
   ]
  },
  {
   "cell_type": "code",
   "execution_count": null,
   "id": "20991671",
   "metadata": {},
   "outputs": [],
   "source": [
    "batch_size = 100\n",
    "my_callbacks = [early_stopping]\n",
    "\n",
    "neg = len(Y_train[Y_train ==0])\n",
    "pos = len(Y_train[Y_train ==1])\n",
    "total = neg + pos\n",
    "weight_for_0 = (1 / neg)*(total)/2.0 \n",
    "weight_for_1 = (1 / pos)*(total)/2.0\n",
    "\n",
    "class_weight = {0: weight_for_0, 1: weight_for_1}\n",
    "\n",
    "history = model.fit(X_train, Y_train, epochs = 100, batch_size=batch_size, \n",
    "                    validation_data=(X_test, Y_test), \n",
    "                    callbacks = my_callbacks, class_weight=class_weight,\n",
    "                    verbose = 2, shuffle=True)"
   ]
  },
  {
   "cell_type": "code",
   "execution_count": null,
   "id": "385c7b37",
   "metadata": {},
   "outputs": [],
   "source": [
    "X_train.shape"
   ]
  },
  {
   "cell_type": "code",
   "execution_count": null,
   "id": "3a8da082",
   "metadata": {},
   "outputs": [],
   "source": [
    "Y_test.shape"
   ]
  },
  {
   "cell_type": "code",
   "execution_count": null,
   "id": "f9745022",
   "metadata": {},
   "outputs": [],
   "source": [
    "X_train = np.reshape(np.array(X_train,(X_train.shape[0],X_train.shape[1],1)))\n",
    "X_test = np.reshape(np.array(X_test, (X_test.shape[0], X_test.shape[1],1)))\n",
    "\n",
    "model = tf.keras.models.Sequential([tf.keras.layers.LSTM(num_cols,\n",
    "input_shape=(1,num_cols),\n",
    "activation = tf.nn.tanh,\n",
    "return_sequences=True),\n",
    "tf.keras.layers.LSTM(10, activation = tf.nn.tanh),\n",
    "tf.keras.layers.Dense(1, activation = tf.nn.relu)])"
   ]
  },
  {
   "cell_type": "code",
   "execution_count": null,
   "id": "17fbe875",
   "metadata": {},
   "outputs": [],
   "source": [
    "def build_model(layers):\n",
    "    model = Sequential()\n",
    "\n",
    "    model.add(LSTM(\n",
    "        input_dim=layers[0],\n",
    "        output_dim=layers[1],\n",
    "        return_sequences=True))\n",
    "    model.add(Dropout(0.2))\n",
    "\n",
    "    model.add(LSTM(\n",
    "        layers[2],\n",
    "        return_sequences=False))\n",
    "    model.add(Dropout(0.2))\n",
    "\n",
    "    model.add(Dense(\n",
    "        output_dim=layers[2]))\n",
    "    model.add(Activation(\"linear\"))\n",
    "\n",
    "    start = time.time()\n",
    "    model.compile(loss=\"mse\", optimizer=\"rmsprop\",metrics=['accuracy'])\n",
    "    print(\"Compilation Time : \", time.time() - start)\n",
    "    return model\n",
    "\n",
    "def build_model2(layers):\n",
    "        d = 0.2\n",
    "        model = Sequential()\n",
    "        model.add(LSTM(128, input_shape=(layers[1], layers[0]), return_sequences=True))\n",
    "        model.add(Dropout(d))\n",
    "        model.add(LSTM(64, input_shape=(layers[1], layers[0]), return_sequences=False))\n",
    "        model.add(Dropout(d))\n",
    "        model.add(Dense(16,init='uniform',activation='relu'))        \n",
    "        model.add(Dense(1,init='uniform',activation='relu'))\n",
    "        model.compile(loss='mse',optimizer='adam',metrics=['accuracy'])\n",
    "        return model"
   ]
  },
  {
   "cell_type": "code",
   "execution_count": null,
   "id": "f30cbde9",
   "metadata": {},
   "outputs": [],
   "source": []
  },
  {
   "cell_type": "code",
   "execution_count": null,
   "id": "7a9355be",
   "metadata": {},
   "outputs": [],
   "source": []
  },
  {
   "cell_type": "code",
   "execution_count": null,
   "id": "5703b7c2",
   "metadata": {},
   "outputs": [],
   "source": []
  }
 ],
 "metadata": {
  "kernelspec": {
   "display_name": "Python 3 (ipykernel)",
   "language": "python",
   "name": "python3"
  },
  "language_info": {
   "codemirror_mode": {
    "name": "ipython",
    "version": 3
   },
   "file_extension": ".py",
   "mimetype": "text/x-python",
   "name": "python",
   "nbconvert_exporter": "python",
   "pygments_lexer": "ipython3",
   "version": "3.9.12"
  }
 },
 "nbformat": 4,
 "nbformat_minor": 5
}
