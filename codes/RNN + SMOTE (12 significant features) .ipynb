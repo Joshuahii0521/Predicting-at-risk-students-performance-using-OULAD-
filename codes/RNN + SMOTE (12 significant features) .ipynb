{
 "cells": [
  {
   "cell_type": "code",
   "execution_count": 2,
   "id": "51047a7b",
   "metadata": {},
   "outputs": [],
   "source": [
    "import os\n",
    "import warnings\n",
    "import pandas as pd\n",
    "import numpy as np\n",
    "import seaborn as sns\n",
    "import matplotlib.pyplot as plt\n",
    "from sklearn import metrics\n",
    "import matplotlib.pyplot as plt\n",
    "from sklearn.decomposition import PCA\n",
    "from imblearn.over_sampling import SMOTE\n",
    "from sklearn.feature_selection import RFE\n",
    "from sklearn.model_selection import KFold\n",
    "from sklearn.metrics import accuracy_score\n",
    "from sklearn.metrics import confusion_matrix\n",
    "from sklearn.preprocessing import LabelEncoder\n",
    "from sklearn.preprocessing import StandardScaler\n",
    "from sklearn import linear_model, ensemble, tree\n",
    "from sklearn.metrics import classification_report\n",
    "from sklearn.linear_model import LogisticRegression\n",
    "from sklearn.model_selection import train_test_split\n",
    "from sklearn.model_selection import RandomizedSearchCV\n",
    "from statsmodels.stats.outliers_influence import variance_inflation_factor\n",
    "from sklearn.ensemble import RandomForestClassifier, GradientBoostingClassifier\n",
    "from sklearn.metrics import r2_score, mean_squared_error, mean_absolute_error\n",
    "from sklearn.model_selection import cross_val_score,GridSearchCV,cross_validate\n",
    "from sklearn.metrics import confusion_matrix, auc,roc_auc_score,roc_curve,recall_score,classification_report\n",
    "warnings.filterwarnings('ignore')\n",
    "pd.set_option('display.max_rows', 100, 'display.max_columns', 400)\n",
    "\n",
    "\n",
    "import os\n",
    "import pandas as pd\n",
    "import numpy as np\n",
    "import matplotlib.pyplot as plt\n",
    "import seaborn as sns\n",
    "import plotly.express as px\n",
    "from sklearn.preprocessing import OneHotEncoder, LabelEncoder\n",
    "from sklearn.experimental import enable_iterative_imputer \n",
    "from sklearn.impute import IterativeImputer\n",
    "from sklearn.tree import DecisionTreeClassifier\n",
    "from sklearn.ensemble import RandomForestClassifier\n",
    "from sklearn.ensemble import ExtraTreesClassifier, RandomForestRegressor\n",
    "from sklearn.ensemble import GradientBoostingClassifier, GradientBoostingRegressor\n",
    "from sklearn.ensemble import AdaBoostClassifier\n",
    "from sklearn.model_selection import KFold\n",
    "from sklearn.model_selection import cross_val_score, cross_validate\n",
    "from sklearn.metrics import accuracy_score\n",
    "from sklearn.metrics import confusion_matrix, auc,roc_auc_score,roc_curve,recall_score,classification_report\n",
    "from sklearn.model_selection import train_test_split\n",
    "from sklearn.model_selection import GridSearchCV\n",
    "from sklearn.svm import SVC\n",
    "from sklearn.naive_bayes import GaussianNB\n",
    "from sklearn.linear_model import LogisticRegression\n",
    "import joblib\n",
    "from mlxtend.plotting import plot_confusion_matrix\n",
    "\n",
    "import warnings\n",
    "warnings.filterwarnings(\"ignore\")\n",
    "\n",
    "\n",
    "import theano\n",
    "import theano.tensor as Tensor\n",
    "import random\n",
    "import sys\n",
    "import csv\n",
    "import time\n",
    "import utils\n",
    "import visualize\n",
    "import tensorflow as tf\n",
    "from tensorflow import keras\n",
    "from keras.models import Sequential\n",
    "from keras.layers import Dense, Embedding, LSTM, BatchNormalization, Bidirectional, LayerNormalization\n",
    "from sklearn.model_selection import train_test_split\n",
    "from keras.utils.np_utils import to_categorical\n",
    "from keras import regularizers\n",
    "import re\n",
    "from keras.layers import Dropout\n",
    "from keras.preprocessing.sequence import TimeseriesGenerator\n",
    "from tensorflow.keras.callbacks import ModelCheckpoint\n",
    "from keras.layers import Activation, Dense, Flatten "
   ]
  },
  {
   "cell_type": "code",
   "execution_count": 3,
   "id": "4426dea6",
   "metadata": {},
   "outputs": [
    {
     "name": "stdout",
     "output_type": "stream",
     "text": [
      "Tensorflow/Keras: 2.9.0\n"
     ]
    }
   ],
   "source": [
    "#Tensorflow / Keras\n",
    "from tensorflow import keras # for building Neural Networks\n",
    "print('Tensorflow/Keras: %s' % keras.__version__) # print version\n",
    "from keras.models import Sequential # for creating a linear stack of layers for our Neural Network\n",
    "from keras import Input # for instantiating a keras tensor\n",
    "from keras.layers import Bidirectional, GRU, RepeatVector, Dense, TimeDistributed,RNN # for creating layers inside the Neural Network\n",
    "from sklearn.preprocessing import MinMaxScaler\n",
    "import tensorflow as tf\n",
    "from tensorflow import keras\n",
    "from tensorflow.keras import layers\n",
    "\n",
    "import numpy as np\n",
    "import tensorflow as tf\n",
    "from tensorflow import keras\n",
    "from tensorflow.keras import layers"
   ]
  },
  {
   "cell_type": "code",
   "execution_count": 4,
   "id": "646c620e",
   "metadata": {},
   "outputs": [],
   "source": [
    "data5 = pd.read_csv('data5.csv')"
   ]
  },
  {
   "cell_type": "code",
   "execution_count": 5,
   "id": "7bc15977",
   "metadata": {},
   "outputs": [
    {
     "name": "stdout",
     "output_type": "stream",
     "text": [
      "Tensorflow/Keras: 2.9.0\n"
     ]
    }
   ],
   "source": [
    "#Tensorflow / Keras\n",
    "from tensorflow import keras # for building Neural Networks\n",
    "print('Tensorflow/Keras: %s' % keras.__version__) # print version\n",
    "from keras.models import Sequential # for creating a linear stack of layers for our Neural Network\n",
    "from keras import Input # for instantiating a keras tensor\n",
    "from keras.layers import Bidirectional, GRU, RepeatVector, Dense, TimeDistributed,RNN # for creating layers inside the Neural Network\n",
    "from sklearn.preprocessing import MinMaxScaler\n",
    "import tensorflow as tf\n",
    "from tensorflow import keras\n",
    "from tensorflow.keras import layers\n",
    "\n",
    "import numpy as np\n",
    "import tensorflow as tf\n",
    "from tensorflow import keras\n",
    "from tensorflow.keras import layers"
   ]
  },
  {
   "cell_type": "code",
   "execution_count": 6,
   "id": "5f819be7",
   "metadata": {},
   "outputs": [],
   "source": [
    "train,test= train_test_split(data5, test_size=0.3,random_state=123, stratify=data5.Result)# stratify the outcome\n",
    "X_train =train.drop(['Result'], axis = 1)\n",
    "X_test = test.drop(['Result'], axis = 1)\n",
    "Y_train = train['Result'].values\n",
    "Y_test = test['Result'].values"
   ]
  },
  {
   "cell_type": "code",
   "execution_count": 7,
   "id": "ee5f1325",
   "metadata": {},
   "outputs": [
    {
     "name": "stdout",
     "output_type": "stream",
     "text": [
      "Before OverSampling, counts of label '1': 144992\n",
      "Before OverSampling, counts of label '0': 589010 \n",
      "\n",
      "After OverSampling, the shape of train_X: (1178020, 52)\n",
      "After OverSampling, the shape of train_y: (1178020,) \n",
      "\n",
      "After OverSampling, counts of label '1': 589010\n",
      "After OverSampling, counts of label '0': 589010\n"
     ]
    }
   ],
   "source": [
    "print(\"Before OverSampling, counts of label '1': {}\".format(sum(Y_train == 1)))\n",
    "print(\"Before OverSampling, counts of label '0': {} \\n\".format(sum(Y_train == 0)))\n",
    "  \n",
    "# import SMOTE module from imblearn library\n",
    "# pip install imblearn (if you don't have imblearn in your system)\n",
    "from imblearn.over_sampling import SMOTE\n",
    "sm = SMOTE(random_state = 2)\n",
    "X_train_res, Y_train_res = sm.fit_resample(X_train, Y_train.ravel())\n",
    "  \n",
    "print('After OverSampling, the shape of train_X: {}'.format(X_train_res.shape))\n",
    "print('After OverSampling, the shape of train_y: {} \\n'.format(Y_train_res.shape))\n",
    "  \n",
    "print(\"After OverSampling, counts of label '1': {}\".format(sum(Y_train_res == 1)))\n",
    "print(\"After OverSampling, counts of label '0': {}\".format(sum(Y_train_res == 0)))"
   ]
  },
  {
   "cell_type": "code",
   "execution_count": 8,
   "id": "23743a85",
   "metadata": {},
   "outputs": [],
   "source": [
    "X_train_res= np.expand_dims(X_train_res, axis=2)"
   ]
  },
  {
   "cell_type": "code",
   "execution_count": 9,
   "id": "2c28205b",
   "metadata": {},
   "outputs": [
    {
     "data": {
      "text/plain": [
       "(1178020, 52, 1)"
      ]
     },
     "execution_count": 9,
     "metadata": {},
     "output_type": "execute_result"
    }
   ],
   "source": [
    "X_train_res.shape"
   ]
  },
  {
   "cell_type": "code",
   "execution_count": 10,
   "id": "ee045d90",
   "metadata": {},
   "outputs": [],
   "source": [
    "X_test = np.expand_dims(X_test, axis=2)"
   ]
  },
  {
   "cell_type": "code",
   "execution_count": 11,
   "id": "178eef17",
   "metadata": {},
   "outputs": [
    {
     "data": {
      "text/plain": [
       "(314573, 52, 1)"
      ]
     },
     "execution_count": 11,
     "metadata": {},
     "output_type": "execute_result"
    }
   ],
   "source": [
    "X_test.shape"
   ]
  },
  {
   "cell_type": "code",
   "execution_count": 12,
   "id": "e2a1df85",
   "metadata": {},
   "outputs": [],
   "source": [
    "import keras.backend as K\n",
    "from keras import models \n",
    "\n",
    "def f1_score(y_true, y_pred):\n",
    "\n",
    "    #Count positive samples.\n",
    "    c1 = K.sum(K.round(K.clip(y_true * y_pred, 0, 1)))\n",
    "    c2 = K.sum(K.round(K.clip(y_pred, 0, 1)))\n",
    "    c3 = K.sum(K.round(K.clip(y_true, 0, 1)))\n",
    "\n",
    "    #If there are no true samples, fix the F1 score at 0.\n",
    "    if c3 == 0.0:\n",
    "        return 0.0\n",
    "\n",
    "    #How many selected items are relevant?\n",
    "    precision = c1 / c2\n",
    "\n",
    "    # How many relevant items are selected?\n",
    "    recall = c1 / c3\n",
    "\n",
    "    # Calculate f1_score\n",
    "    f1_score = 2 * (precision * recall) / (precision + recall)\n",
    "    return f1_score "
   ]
  },
  {
   "cell_type": "code",
   "execution_count": 13,
   "id": "9c46c5c2",
   "metadata": {},
   "outputs": [
    {
     "name": "stdout",
     "output_type": "stream",
     "text": [
      "Model: \"sequential\"\n",
      "_________________________________________________________________\n",
      " Layer (type)                Output Shape              Param #   \n",
      "=================================================================\n",
      " simple_rnn (SimpleRNN)      (None, 52, 128)           16640     \n",
      "                                                                 \n",
      " dropout (Dropout)           (None, 52, 128)           0         \n",
      "                                                                 \n",
      " batch_normalization (BatchN  (None, 52, 128)          512       \n",
      " ormalization)                                                   \n",
      "                                                                 \n",
      " simple_rnn_1 (SimpleRNN)    (None, 52, 128)           32896     \n",
      "                                                                 \n",
      " dropout_1 (Dropout)         (None, 52, 128)           0         \n",
      "                                                                 \n",
      " batch_normalization_1 (Batc  (None, 52, 128)          512       \n",
      " hNormalization)                                                 \n",
      "                                                                 \n",
      " simple_rnn_2 (SimpleRNN)    (None, 64)                12352     \n",
      "                                                                 \n",
      " dropout_2 (Dropout)         (None, 64)                0         \n",
      "                                                                 \n",
      " batch_normalization_2 (Batc  (None, 64)               256       \n",
      " hNormalization)                                                 \n",
      "                                                                 \n",
      " dense (Dense)               (None, 1)                 65        \n",
      "                                                                 \n",
      "=================================================================\n",
      "Total params: 63,233\n",
      "Trainable params: 62,593\n",
      "Non-trainable params: 640\n",
      "_________________________________________________________________\n"
     ]
    }
   ],
   "source": [
    "model = keras.Sequential()\n",
    "# RNN LAYER IS ADDED TO MODEL WITH 128 CELLS IN IT\n",
    "model.add(layers.SimpleRNN(128, input_shape=(X_train_res.shape[1],X_train_res.shape[2]), activation='tanh', return_sequences=True))\n",
    "model.add(Dropout(0.2))  # 20% DROPOUT ADDED FOR REGULARIZATION\n",
    "model.add(BatchNormalization())\n",
    "model.add(layers.SimpleRNN(128, input_shape=(X_train_res.shape[1],X_train_res.shape[2]), activation='tanh', return_sequences=True))   # ADD ANOTHER LAYER\n",
    "model.add(Dropout(0.1))\n",
    "model.add(BatchNormalization())\n",
    "model.add(layers.SimpleRNN(64, input_shape=(X_train_res.shape[1],X_train_res.shape[2]), activation='tanh', return_sequences=False))\n",
    "model.add(Dropout(0.2))\n",
    "model.add(BatchNormalization())\n",
    "model.add(Dense(1, activation='sigmoid'))  # FINAL CLASSIFICATION LAYER WITH 2 CLASSES AND SOFTMAX\n",
    "# ---------------------------------------------------------------------------------------------------\n",
    "# OPTIMIZER SETTINGS\n",
    "opt = tf.keras.optimizers.Adam(learning_rate=0.0017, decay=1e-6)\n",
    "\n",
    "# MODEL COMPILE\n",
    "model.compile(loss='binary_crossentropy', optimizer=opt, metrics=['accuracy','Recall','Precision',f1_score])\n",
    "\n",
    "model.summary()"
   ]
  },
  {
   "cell_type": "code",
   "execution_count": 14,
   "id": "6070c3f8",
   "metadata": {},
   "outputs": [
    {
     "name": "stdout",
     "output_type": "stream",
     "text": [
      "Epoch 1/10\n",
      "2301/2301 [==============================] - 437s 189ms/step - loss: 0.5509 - accuracy: 0.7080 - recall: 0.7430 - precision: 0.6944 - f1_score: 0.7172 - val_loss: 0.5169 - val_accuracy: 0.7014 - val_recall: 0.8295 - val_precision: 0.3821 - val_f1_score: 0.5224\n",
      "Epoch 2/10\n",
      "2301/2301 [==============================] - 448s 195ms/step - loss: 0.4390 - accuracy: 0.7853 - recall: 0.8246 - precision: 0.7645 - f1_score: 0.7932 - val_loss: 0.5044 - val_accuracy: 0.7296 - val_recall: 0.7749 - val_precision: 0.4039 - val_f1_score: 0.5301\n",
      "Epoch 3/10\n",
      "2301/2301 [==============================] - 458s 199ms/step - loss: 0.5226 - accuracy: 0.7308 - recall: 0.7792 - precision: 0.7104 - f1_score: 0.7431 - val_loss: 0.5362 - val_accuracy: 0.7050 - val_recall: 0.7246 - val_precision: 0.3730 - val_f1_score: 0.4915\n",
      "Epoch 4/10\n",
      "2301/2301 [==============================] - 439s 191ms/step - loss: 0.5627 - accuracy: 0.7024 - recall: 0.7488 - precision: 0.6853 - f1_score: 0.7153 - val_loss: 0.5794 - val_accuracy: 0.6656 - val_recall: 0.7367 - val_precision: 0.3401 - val_f1_score: 0.4644\n",
      "Epoch 5/10\n",
      "2301/2301 [==============================] - 430s 187ms/step - loss: 0.5994 - accuracy: 0.6684 - recall: 0.7080 - precision: 0.6561 - f1_score: 0.6809 - val_loss: 0.6778 - val_accuracy: 0.5489 - val_recall: 0.7392 - val_precision: 0.2676 - val_f1_score: 0.3923\n",
      "Epoch 6/10\n",
      "2301/2301 [==============================] - 436s 189ms/step - loss: 0.6325 - accuracy: 0.6399 - recall: 0.6914 - precision: 0.6269 - f1_score: 0.6573 - val_loss: 0.6439 - val_accuracy: 0.5849 - val_recall: 0.7117 - val_precision: 0.2819 - val_f1_score: 0.4031\n",
      "Epoch 7/10\n",
      "2301/2301 [==============================] - 448s 195ms/step - loss: 0.6404 - accuracy: 0.6329 - recall: 0.6875 - precision: 0.6198 - f1_score: 0.6516 - val_loss: 0.6622 - val_accuracy: 0.5924 - val_recall: 0.6522 - val_precision: 0.2754 - val_f1_score: 0.3866\n",
      "Epoch 8/10\n",
      "2301/2301 [==============================] - 452s 196ms/step - loss: 0.6492 - accuracy: 0.6204 - recall: 0.6972 - precision: 0.6044 - f1_score: 0.6470 - val_loss: 0.6586 - val_accuracy: 0.5486 - val_recall: 0.7528 - val_precision: 0.2697 - val_f1_score: 0.3965\n",
      "Epoch 9/10\n",
      "2301/2301 [==============================] - 455s 198ms/step - loss: 0.6418 - accuracy: 0.6301 - recall: 0.6829 - precision: 0.6177 - f1_score: 0.6483 - val_loss: 0.6558 - val_accuracy: 0.5583 - val_recall: 0.6825 - val_precision: 0.2624 - val_f1_score: 0.3784\n",
      "Epoch 10/10\n",
      "2301/2301 [==============================] - 445s 193ms/step - loss: 0.6543 - accuracy: 0.6164 - recall: 0.7081 - precision: 0.5984 - f1_score: 0.6483 - val_loss: 0.6600 - val_accuracy: 0.5493 - val_recall: 0.7042 - val_precision: 0.2618 - val_f1_score: 0.3811\n"
     ]
    }
   ],
   "source": [
    "# RUN THE MODEL\n",
    "history = model.fit(X_train_res, Y_train_res, epochs=10, batch_size=512, verbose=1,\n",
    "                    validation_data=(X_test, Y_test))"
   ]
  },
  {
   "cell_type": "code",
   "execution_count": null,
   "id": "92b81932",
   "metadata": {},
   "outputs": [],
   "source": []
  },
  {
   "cell_type": "code",
   "execution_count": null,
   "id": "648ad379",
   "metadata": {},
   "outputs": [],
   "source": []
  }
 ],
 "metadata": {
  "kernelspec": {
   "display_name": "Python 3 (ipykernel)",
   "language": "python",
   "name": "python3"
  },
  "language_info": {
   "codemirror_mode": {
    "name": "ipython",
    "version": 3
   },
   "file_extension": ".py",
   "mimetype": "text/x-python",
   "name": "python",
   "nbconvert_exporter": "python",
   "pygments_lexer": "ipython3",
   "version": "3.9.12"
  }
 },
 "nbformat": 4,
 "nbformat_minor": 5
}
